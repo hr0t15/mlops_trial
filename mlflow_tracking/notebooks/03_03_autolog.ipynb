{
 "cells": [
  {
   "cell_type": "markdown",
   "id": "a9b1c390-73c7-4f56-a106-5505796c6a38",
   "metadata": {},
   "source": [
    "# autologによるログの自動取得"
   ]
  },
  {
   "cell_type": "markdown",
   "id": "d8ee0b7d-3211-4996-a0d2-38a9c2b1b47a",
   "metadata": {},
   "source": [
    "これまでは記録するパラメータやアーティファクト等はこちらで指定したが、学習器(scikit-learn, XGBoost, LightGBM, TensorFlow, Keras etc)によっては、記録する情報を自動的に設定するautologという機能がある。\n",
    "\n",
    "ここでは、scikit-learnにあるdiabetesというデータセットを通じて、scikit-learnの学習に対して`autolog()`を用いたとき、どのように記録されるかを確認する。  \n",
    "また、最新のautologの実行結果を取得する`mlflow.last_active_run()`についても確認する。"
   ]
  },
  {
   "cell_type": "code",
   "execution_count": 1,
   "id": "721b6369-67ae-421e-95d0-22f936e6ca93",
   "metadata": {},
   "outputs": [],
   "source": [
    "import mlflow\n",
    "\n",
    "from sklearn.model_selection import train_test_split\n",
    "from sklearn.datasets import load_diabetes\n",
    "from sklearn.ensemble import RandomForestRegressor"
   ]
  },
  {
   "cell_type": "code",
   "execution_count": 2,
   "id": "85219e15-8e01-40b1-b563-5580fad4f339",
   "metadata": {},
   "outputs": [],
   "source": [
    "db = load_diabetes()"
   ]
  },
  {
   "cell_type": "code",
   "execution_count": 3,
   "id": "8aa9a029-707a-46e8-bd2a-b511eddd2132",
   "metadata": {},
   "outputs": [],
   "source": [
    "X = db.data\n",
    "y = db.target"
   ]
  },
  {
   "cell_type": "code",
   "execution_count": 4,
   "id": "2dfdea33-51cd-4fd7-be1c-85071f9232a8",
   "metadata": {},
   "outputs": [],
   "source": [
    "X_train, X_test, y_train, y_test = train_test_split(db.data, db.target)"
   ]
  },
  {
   "cell_type": "code",
   "execution_count": 5,
   "id": "9c5c6cd0-783e-4646-86c2-7271357129ae",
   "metadata": {},
   "outputs": [],
   "source": [
    "mlflow.set_tracking_uri(\"http://localhost:5000\")"
   ]
  },
  {
   "cell_type": "code",
   "execution_count": 6,
   "id": "17734dd9-ba16-4267-b57a-712ae08c7e71",
   "metadata": {},
   "outputs": [
    {
     "name": "stderr",
     "output_type": "stream",
     "text": [
      "2024/04/24 15:26:54 INFO mlflow.tracking.fluent: Experiment with name 'Auto_Logging' does not exist. Creating a new experiment.\n"
     ]
    },
    {
     "data": {
      "text/plain": [
       "<Experiment: artifact_location='mlflow-artifacts:/509013123844066675', creation_time=1713940014747, experiment_id='509013123844066675', last_update_time=1713940014747, lifecycle_stage='active', name='Auto_Logging', tags={}>"
      ]
     },
     "execution_count": 6,
     "metadata": {},
     "output_type": "execute_result"
    }
   ],
   "source": [
    "# エクスペリメントの定義\n",
    "experiment = mlflow.set_experiment(\"Auto_Logging\")\n",
    "experiment"
   ]
  },
  {
   "cell_type": "markdown",
   "id": "60687851-3814-4b19-b491-299f743fc0ab",
   "metadata": {},
   "source": [
    "ここで`mlflow.autolog()`を実行することにより、自動ログ取得が実行される。"
   ]
  },
  {
   "cell_type": "code",
   "execution_count": 7,
   "id": "54db59b2-c1ce-4805-afcf-1f9656d184a1",
   "metadata": {},
   "outputs": [
    {
     "name": "stderr",
     "output_type": "stream",
     "text": [
      "2024/04/24 15:26:54 WARNING mlflow.utils.autologging_utils: You are using an unsupported version of sklearn. If you encounter errors during autologging, try upgrading / downgrading sklearn to a supported version, or try upgrading MLflow.\n",
      "2024/04/24 15:26:55 INFO mlflow.tracking.fluent: Autologging successfully enabled for sklearn.\n"
     ]
    }
   ],
   "source": [
    "mlflow.autolog()"
   ]
  },
  {
   "cell_type": "markdown",
   "id": "eaf10310-4935-4db8-9122-335c55b3fdfb",
   "metadata": {},
   "source": [
    "このコンテキストを実行することにより、実際の学習・予測および記録がなされる。"
   ]
  },
  {
   "cell_type": "code",
   "execution_count": 8,
   "id": "f64028c2-acb3-42d8-aaee-214d33084c5e",
   "metadata": {},
   "outputs": [
    {
     "name": "stderr",
     "output_type": "stream",
     "text": [
      "2024/04/24 15:26:57 WARNING mlflow.utils.autologging_utils: MLflow autologging encountered a warning: \"/home/user01/.local/lib/python3.10/site-packages/_distutils_hack/__init__.py:26: UserWarning: Setuptools is replacing distutils.\"\n"
     ]
    }
   ],
   "source": [
    "with mlflow.start_run(run_name=\"trial autologging\") as run:\n",
    "    # Create and train models and predictions.\n",
    "    rf = RandomForestRegressor(n_estimators=100, max_depth=6, max_features=3)\n",
    "    rf.fit(X_train, y_train)\n",
    "    predictions = rf.predict(X_test)"
   ]
  },
  {
   "cell_type": "markdown",
   "id": "2bea97f7-f15f-41c6-a435-1a54b9dc4f34",
   "metadata": {},
   "source": [
    "記録が完了すると、Web UIより実験の実行処理の内容を確認することができるようになる。\n",
    "\n",
    "一方で、直前の実行処理の内容は`mlflow.last_active_run()`にて取得可能である。"
   ]
  },
  {
   "cell_type": "code",
   "execution_count": 9,
   "id": "8c58e092-66d2-4858-9bdb-18b407ddd845",
   "metadata": {},
   "outputs": [
    {
     "data": {
      "text/plain": [
       "<Run: data=<RunData: metrics={'training_mean_absolute_error': 30.6991274607621,\n",
       " 'training_mean_squared_error': 1382.797049433485,\n",
       " 'training_r2_score': 0.7689636221432221,\n",
       " 'training_root_mean_squared_error': 37.18597920498377,\n",
       " 'training_score': 0.7689636221432221}, params={'bootstrap': 'True',\n",
       " 'ccp_alpha': '0.0',\n",
       " 'criterion': 'squared_error',\n",
       " 'max_depth': '6',\n",
       " 'max_features': '3',\n",
       " 'max_leaf_nodes': 'None',\n",
       " 'max_samples': 'None',\n",
       " 'min_impurity_decrease': '0.0',\n",
       " 'min_samples_leaf': '1',\n",
       " 'min_samples_split': '2',\n",
       " 'min_weight_fraction_leaf': '0.0',\n",
       " 'monotonic_cst': 'None',\n",
       " 'n_estimators': '100',\n",
       " 'n_jobs': 'None',\n",
       " 'oob_score': 'False',\n",
       " 'random_state': 'None',\n",
       " 'verbose': '0',\n",
       " 'warm_start': 'False'}, tags={'estimator_class': 'sklearn.ensemble._forest.RandomForestRegressor',\n",
       " 'estimator_name': 'RandomForestRegressor',\n",
       " 'mlflow.log-model.history': '[{\"run_id\": \"e0d2dd63dbe24bf79e6d2930e8ad90ac\", '\n",
       "                             '\"artifact_path\": \"model\", \"utc_time_created\": '\n",
       "                             '\"2024-04-24 06:26:55.438311\", \"flavors\": '\n",
       "                             '{\"python_function\": {\"model_path\": \"model.pkl\", '\n",
       "                             '\"predict_fn\": \"predict\", \"loader_module\": '\n",
       "                             '\"mlflow.sklearn\", \"python_version\": \"3.10.12\", '\n",
       "                             '\"env\": {\"conda\": \"conda.yaml\", \"virtualenv\": '\n",
       "                             '\"python_env.yaml\"}}, \"sklearn\": '\n",
       "                             '{\"pickled_model\": \"model.pkl\", '\n",
       "                             '\"sklearn_version\": \"1.4.2\", '\n",
       "                             '\"serialization_format\": \"cloudpickle\", \"code\": '\n",
       "                             'null}}, \"model_uuid\": '\n",
       "                             '\"9fe14032bffa40e9b3125cfe79705380\", '\n",
       "                             '\"mlflow_version\": \"2.11.3\", \"signature\": '\n",
       "                             '{\"inputs\": \"[{\\\\\"type\\\\\": \\\\\"tensor\\\\\", '\n",
       "                             '\\\\\"tensor-spec\\\\\": {\\\\\"dtype\\\\\": \\\\\"float64\\\\\", '\n",
       "                             '\\\\\"shape\\\\\": [-1, 10]}}]\", \"outputs\": '\n",
       "                             '\"[{\\\\\"type\\\\\": \\\\\"tensor\\\\\", \\\\\"tensor-spec\\\\\": '\n",
       "                             '{\\\\\"dtype\\\\\": \\\\\"float64\\\\\", \\\\\"shape\\\\\": '\n",
       "                             '[-1]}}]\", \"params\": null}, \"model_size_bytes\": '\n",
       "                             '698874}]',\n",
       " 'mlflow.runName': 'trial autologging',\n",
       " 'mlflow.source.name': '/home/user01/.local/lib/python3.10/site-packages/ipykernel_launcher.py',\n",
       " 'mlflow.source.type': 'LOCAL',\n",
       " 'mlflow.user': 'user01'}>, info=<RunInfo: artifact_uri='mlflow-artifacts:/509013123844066675/e0d2dd63dbe24bf79e6d2930e8ad90ac/artifacts', end_time=1713940017598, experiment_id='509013123844066675', lifecycle_stage='active', run_id='e0d2dd63dbe24bf79e6d2930e8ad90ac', run_name='trial autologging', run_uuid='e0d2dd63dbe24bf79e6d2930e8ad90ac', start_time=1713940015229, status='FINISHED', user_id='user01'>, inputs=<RunInputs: dataset_inputs=[<DatasetInput: dataset=<Dataset: digest='3c7dc649', name='dataset', profile='{\"features_shape\": [111, 10], \"features_size\": 1110, \"features_nbytes\": 8880}', schema=('{\"mlflow_tensorspec\": {\"features\": \"[{\\\\\"type\\\\\": \\\\\"tensor\\\\\", '\n",
       " '\\\\\"tensor-spec\\\\\": {\\\\\"dtype\\\\\": \\\\\"float64\\\\\", \\\\\"shape\\\\\": [-1, 10]}}]\", '\n",
       " '\"targets\": null}}'), source=('{\"tags\": {\"mlflow.user\": \"user01\", \"mlflow.source.name\": '\n",
       " '\"/home/user01/.local/lib/python3.10/site-packages/ipykernel_launcher.py\", '\n",
       " '\"mlflow.source.type\": \"LOCAL\"}}'), source_type='code'>, tags=[<InputTag: key='mlflow.data.context', value='eval'>]>,\n",
       " <DatasetInput: dataset=<Dataset: digest='3d429826', name='dataset', profile=('{\"features_shape\": [331, 10], \"features_size\": 3310, \"features_nbytes\": '\n",
       " '26480, \"targets_shape\": [331], \"targets_size\": 331, \"targets_nbytes\": 2648}'), schema=('{\"mlflow_tensorspec\": {\"features\": \"[{\\\\\"type\\\\\": \\\\\"tensor\\\\\", '\n",
       " '\\\\\"tensor-spec\\\\\": {\\\\\"dtype\\\\\": \\\\\"float64\\\\\", \\\\\"shape\\\\\": [-1, 10]}}]\", '\n",
       " '\"targets\": \"[{\\\\\"type\\\\\": \\\\\"tensor\\\\\", \\\\\"tensor-spec\\\\\": {\\\\\"dtype\\\\\": '\n",
       " '\\\\\"float64\\\\\", \\\\\"shape\\\\\": [-1]}}]\"}}'), source=('{\"tags\": {\"mlflow.user\": \"user01\", \"mlflow.source.name\": '\n",
       " '\"/home/user01/.local/lib/python3.10/site-packages/ipykernel_launcher.py\", '\n",
       " '\"mlflow.source.type\": \"LOCAL\"}}'), source_type='code'>, tags=[<InputTag: key='mlflow.data.context', value='train'>]>]>>"
      ]
     },
     "execution_count": 9,
     "metadata": {},
     "output_type": "execute_result"
    }
   ],
   "source": [
    "# Use the model to make predictions on the test dataset.\n",
    "autolog_run = mlflow.last_active_run()\n",
    "autolog_run"
   ]
  },
  {
   "cell_type": "code",
   "execution_count": null,
   "id": "8d81e589-d91c-4b90-b5fd-b91fb2ce9750",
   "metadata": {},
   "outputs": [],
   "source": []
  }
 ],
 "metadata": {
  "kernelspec": {
   "display_name": "Python 3 (ipykernel)",
   "language": "python",
   "name": "python3"
  },
  "language_info": {
   "codemirror_mode": {
    "name": "ipython",
    "version": 3
   },
   "file_extension": ".py",
   "mimetype": "text/x-python",
   "name": "python",
   "nbconvert_exporter": "python",
   "pygments_lexer": "ipython3",
   "version": "3.10.12"
  }
 },
 "nbformat": 4,
 "nbformat_minor": 5
}
