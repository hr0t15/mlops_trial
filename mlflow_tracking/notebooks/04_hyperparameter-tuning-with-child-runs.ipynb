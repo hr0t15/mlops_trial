{
 "cells": [
  {
   "cell_type": "markdown",
   "id": "65854a65",
   "metadata": {},
   "source": [
    "# MLflow TrackingとOptuna"
   ]
  },
  {
   "cell_type": "markdown",
   "id": "832d5a3b-26c0-47cc-b1dd-b1791031f696",
   "metadata": {},
   "source": [
    "実行処理の保存単位として、ネストしての保存が可能であることはすでに言及した。  \n",
    "実験のアプローチとネストの設計は、実験を構成するうえでは非常に重要になる。\n",
    "\n",
    "ネストが用いられる重要な例として、Optunaを実行するときの実行処理の保存を取り扱う。  \n",
    "これまで用いてきたデータセット apple_data を用いて、Optuna + XGBoostの実験の記録を行っていく。"
   ]
  },
  {
   "cell_type": "code",
   "execution_count": 1,
   "id": "23d8e2c8-a48d-44d6-8415-e6f639655367",
   "metadata": {},
   "outputs": [
    {
     "name": "stderr",
     "output_type": "stream",
     "text": [
      "/home/user01/.local/lib/python3.10/site-packages/tqdm/auto.py:21: TqdmWarning: IProgress not found. Please update jupyter and ipywidgets. See https://ipywidgets.readthedocs.io/en/stable/user_install.html\n",
      "  from .autonotebook import tqdm as notebook_tqdm\n"
     ]
    }
   ],
   "source": [
    "import math\n",
    "from datetime import datetime, timedelta\n",
    "\n",
    "import numpy as np\n",
    "import optuna\n",
    "import pandas as pd\n",
    "import xgboost as xgb\n",
    "from sklearn.metrics import mean_squared_error\n",
    "from sklearn.model_selection import train_test_split\n",
    "\n",
    "import mlflow"
   ]
  },
  {
   "cell_type": "markdown",
   "id": "c67b6ea8-5d7a-494d-b474-ea57d3219b20",
   "metadata": {},
   "source": [
    "## 実験の定義"
   ]
  },
  {
   "cell_type": "markdown",
   "id": "6162d0f3",
   "metadata": {},
   "source": [
    "### トラッキングサーバURIの設定"
   ]
  },
  {
   "cell_type": "code",
   "execution_count": 2,
   "id": "7f72ec55",
   "metadata": {},
   "outputs": [],
   "source": [
    "mlflow.set_tracking_uri(\"http://localhost:5000\")"
   ]
  },
  {
   "cell_type": "markdown",
   "id": "8395e8d7",
   "metadata": {},
   "source": [
    "### apple_data の読み込み"
   ]
  },
  {
   "cell_type": "code",
   "execution_count": 3,
   "id": "4f2f19e2",
   "metadata": {},
   "outputs": [
    {
     "data": {
      "text/html": [
       "<div>\n",
       "<style scoped>\n",
       "    .dataframe tbody tr th:only-of-type {\n",
       "        vertical-align: middle;\n",
       "    }\n",
       "\n",
       "    .dataframe tbody tr th {\n",
       "        vertical-align: top;\n",
       "    }\n",
       "\n",
       "    .dataframe thead th {\n",
       "        text-align: right;\n",
       "    }\n",
       "</style>\n",
       "<table border=\"1\" class=\"dataframe\">\n",
       "  <thead>\n",
       "    <tr style=\"text-align: right;\">\n",
       "      <th></th>\n",
       "      <th>date</th>\n",
       "      <th>average_temperature</th>\n",
       "      <th>rainfall</th>\n",
       "      <th>weekend</th>\n",
       "      <th>holiday</th>\n",
       "      <th>price_per_kg</th>\n",
       "      <th>promo</th>\n",
       "      <th>demand</th>\n",
       "      <th>previous_days_demand</th>\n",
       "      <th>competitor_price_per_kg</th>\n",
       "      <th>marketing_intensity</th>\n",
       "    </tr>\n",
       "  </thead>\n",
       "  <tbody>\n",
       "    <tr>\n",
       "      <th>0</th>\n",
       "      <td>1996-12-02 23:45:11.240034</td>\n",
       "      <td>30.584727</td>\n",
       "      <td>1.831006</td>\n",
       "      <td>0</td>\n",
       "      <td>0</td>\n",
       "      <td>1.578387</td>\n",
       "      <td>1</td>\n",
       "      <td>1001.647352</td>\n",
       "      <td>1026.324266</td>\n",
       "      <td>0.755725</td>\n",
       "      <td>0.323086</td>\n",
       "    </tr>\n",
       "    <tr>\n",
       "      <th>1</th>\n",
       "      <td>1996-12-03 23:45:11.240032</td>\n",
       "      <td>15.465069</td>\n",
       "      <td>0.761303</td>\n",
       "      <td>0</td>\n",
       "      <td>0</td>\n",
       "      <td>1.965125</td>\n",
       "      <td>0</td>\n",
       "      <td>843.972638</td>\n",
       "      <td>1026.324266</td>\n",
       "      <td>0.913934</td>\n",
       "      <td>0.030371</td>\n",
       "    </tr>\n",
       "    <tr>\n",
       "      <th>2</th>\n",
       "      <td>1996-12-04 23:45:11.240031</td>\n",
       "      <td>10.786525</td>\n",
       "      <td>1.427338</td>\n",
       "      <td>0</td>\n",
       "      <td>0</td>\n",
       "      <td>1.497623</td>\n",
       "      <td>0</td>\n",
       "      <td>890.319248</td>\n",
       "      <td>868.942267</td>\n",
       "      <td>2.879262</td>\n",
       "      <td>0.354226</td>\n",
       "    </tr>\n",
       "    <tr>\n",
       "      <th>3</th>\n",
       "      <td>1996-12-05 23:45:11.240030</td>\n",
       "      <td>23.648154</td>\n",
       "      <td>3.737435</td>\n",
       "      <td>0</td>\n",
       "      <td>0</td>\n",
       "      <td>1.952936</td>\n",
       "      <td>0</td>\n",
       "      <td>811.206168</td>\n",
       "      <td>889.965021</td>\n",
       "      <td>0.826015</td>\n",
       "      <td>0.953000</td>\n",
       "    </tr>\n",
       "    <tr>\n",
       "      <th>4</th>\n",
       "      <td>1996-12-06 23:45:11.240029</td>\n",
       "      <td>13.861391</td>\n",
       "      <td>5.598549</td>\n",
       "      <td>0</td>\n",
       "      <td>0</td>\n",
       "      <td>2.059993</td>\n",
       "      <td>0</td>\n",
       "      <td>822.279469</td>\n",
       "      <td>835.253168</td>\n",
       "      <td>1.130145</td>\n",
       "      <td>0.953000</td>\n",
       "    </tr>\n",
       "    <tr>\n",
       "      <th>...</th>\n",
       "      <td>...</td>\n",
       "      <td>...</td>\n",
       "      <td>...</td>\n",
       "      <td>...</td>\n",
       "      <td>...</td>\n",
       "      <td>...</td>\n",
       "      <td>...</td>\n",
       "      <td>...</td>\n",
       "      <td>...</td>\n",
       "      <td>...</td>\n",
       "      <td>...</td>\n",
       "    </tr>\n",
       "    <tr>\n",
       "      <th>9995</th>\n",
       "      <td>2024-04-14 23:45:11.226286</td>\n",
       "      <td>23.358868</td>\n",
       "      <td>7.061220</td>\n",
       "      <td>1</td>\n",
       "      <td>0</td>\n",
       "      <td>1.556829</td>\n",
       "      <td>1</td>\n",
       "      <td>2566.432998</td>\n",
       "      <td>2676.279445</td>\n",
       "      <td>0.560507</td>\n",
       "      <td>0.889971</td>\n",
       "    </tr>\n",
       "    <tr>\n",
       "      <th>9996</th>\n",
       "      <td>2024-04-15 23:45:11.226284</td>\n",
       "      <td>14.859048</td>\n",
       "      <td>0.868655</td>\n",
       "      <td>0</td>\n",
       "      <td>0</td>\n",
       "      <td>1.632918</td>\n",
       "      <td>1</td>\n",
       "      <td>2032.827646</td>\n",
       "      <td>2590.543027</td>\n",
       "      <td>2.460766</td>\n",
       "      <td>0.884467</td>\n",
       "    </tr>\n",
       "    <tr>\n",
       "      <th>9997</th>\n",
       "      <td>2024-04-16 23:45:11.226283</td>\n",
       "      <td>17.941035</td>\n",
       "      <td>13.739986</td>\n",
       "      <td>0</td>\n",
       "      <td>0</td>\n",
       "      <td>0.827723</td>\n",
       "      <td>1</td>\n",
       "      <td>2167.417581</td>\n",
       "      <td>2031.943179</td>\n",
       "      <td>1.321922</td>\n",
       "      <td>0.884467</td>\n",
       "    </tr>\n",
       "    <tr>\n",
       "      <th>9998</th>\n",
       "      <td>2024-04-17 23:45:11.226281</td>\n",
       "      <td>14.533862</td>\n",
       "      <td>1.610512</td>\n",
       "      <td>0</td>\n",
       "      <td>0</td>\n",
       "      <td>0.589172</td>\n",
       "      <td>1</td>\n",
       "      <td>2099.505096</td>\n",
       "      <td>2166.533113</td>\n",
       "      <td>2.604095</td>\n",
       "      <td>0.812706</td>\n",
       "    </tr>\n",
       "    <tr>\n",
       "      <th>9999</th>\n",
       "      <td>2024-04-18 23:45:11.226273</td>\n",
       "      <td>13.048549</td>\n",
       "      <td>5.287508</td>\n",
       "      <td>0</td>\n",
       "      <td>0</td>\n",
       "      <td>1.794122</td>\n",
       "      <td>1</td>\n",
       "      <td>2004.100185</td>\n",
       "      <td>2098.692389</td>\n",
       "      <td>1.261635</td>\n",
       "      <td>0.750458</td>\n",
       "    </tr>\n",
       "  </tbody>\n",
       "</table>\n",
       "<p>10000 rows × 11 columns</p>\n",
       "</div>"
      ],
      "text/plain": [
       "                           date  average_temperature   rainfall  weekend  \\\n",
       "0    1996-12-02 23:45:11.240034            30.584727   1.831006        0   \n",
       "1    1996-12-03 23:45:11.240032            15.465069   0.761303        0   \n",
       "2    1996-12-04 23:45:11.240031            10.786525   1.427338        0   \n",
       "3    1996-12-05 23:45:11.240030            23.648154   3.737435        0   \n",
       "4    1996-12-06 23:45:11.240029            13.861391   5.598549        0   \n",
       "...                         ...                  ...        ...      ...   \n",
       "9995 2024-04-14 23:45:11.226286            23.358868   7.061220        1   \n",
       "9996 2024-04-15 23:45:11.226284            14.859048   0.868655        0   \n",
       "9997 2024-04-16 23:45:11.226283            17.941035  13.739986        0   \n",
       "9998 2024-04-17 23:45:11.226281            14.533862   1.610512        0   \n",
       "9999 2024-04-18 23:45:11.226273            13.048549   5.287508        0   \n",
       "\n",
       "      holiday  price_per_kg  promo       demand  previous_days_demand  \\\n",
       "0           0      1.578387      1  1001.647352           1026.324266   \n",
       "1           0      1.965125      0   843.972638           1026.324266   \n",
       "2           0      1.497623      0   890.319248            868.942267   \n",
       "3           0      1.952936      0   811.206168            889.965021   \n",
       "4           0      2.059993      0   822.279469            835.253168   \n",
       "...       ...           ...    ...          ...                   ...   \n",
       "9995        0      1.556829      1  2566.432998           2676.279445   \n",
       "9996        0      1.632918      1  2032.827646           2590.543027   \n",
       "9997        0      0.827723      1  2167.417581           2031.943179   \n",
       "9998        0      0.589172      1  2099.505096           2166.533113   \n",
       "9999        0      1.794122      1  2004.100185           2098.692389   \n",
       "\n",
       "      competitor_price_per_kg  marketing_intensity  \n",
       "0                    0.755725             0.323086  \n",
       "1                    0.913934             0.030371  \n",
       "2                    2.879262             0.354226  \n",
       "3                    0.826015             0.953000  \n",
       "4                    1.130145             0.953000  \n",
       "...                       ...                  ...  \n",
       "9995                 0.560507             0.889971  \n",
       "9996                 2.460766             0.884467  \n",
       "9997                 1.321922             0.884467  \n",
       "9998                 2.604095             0.812706  \n",
       "9999                 1.261635             0.750458  \n",
       "\n",
       "[10000 rows x 11 columns]"
      ]
     },
     "execution_count": 3,
     "metadata": {},
     "output_type": "execute_result"
    }
   ],
   "source": [
    "df = pd.read_csv('apple_data.csv', parse_dates=[0])\n",
    "df"
   ]
  },
  {
   "cell_type": "code",
   "execution_count": 4,
   "id": "22b9138b-2e56-4563-8620-9e046c9d8ae2",
   "metadata": {},
   "outputs": [
    {
     "data": {
      "text/plain": [
       "date                       datetime64[ns]\n",
       "average_temperature               float64\n",
       "rainfall                          float64\n",
       "weekend                             int64\n",
       "holiday                             int64\n",
       "price_per_kg                      float64\n",
       "promo                               int64\n",
       "demand                            float64\n",
       "previous_days_demand              float64\n",
       "competitor_price_per_kg           float64\n",
       "marketing_intensity               float64\n",
       "dtype: object"
      ]
     },
     "execution_count": 4,
     "metadata": {},
     "output_type": "execute_result"
    }
   ],
   "source": [
    "df.dtypes"
   ]
  },
  {
   "cell_type": "markdown",
   "id": "eda81d76",
   "metadata": {},
   "source": [
    "## 可視化"
   ]
  },
  {
   "cell_type": "markdown",
   "id": "763f7672-4075-4f7a-a2e7-0fc6f58159ad",
   "metadata": {},
   "source": [
    "### 特徴量と目標変数の相関"
   ]
  },
  {
   "cell_type": "code",
   "execution_count": 5,
   "id": "1e06977f",
   "metadata": {},
   "outputs": [],
   "source": [
    "import matplotlib.pyplot as plt\n",
    "import seaborn as sns"
   ]
  },
  {
   "cell_type": "code",
   "execution_count": 6,
   "id": "2e43a4e0-683a-48a3-a1df-9a63c3dd67cb",
   "metadata": {},
   "outputs": [],
   "source": [
    "def plot_correlation_with_demand(df, save_path=None):\n",
    "    \"\"\"\n",
    "    Plots the correlation of each variable in the dataframe with the 'demand' column.\n",
    "\n",
    "    Args:\n",
    "    - df (pd.DataFrame): DataFrame containing the data, including a 'demand' column.\n",
    "    - save_path (str, optional): Path to save the generated plot. If not specified, plot won't be saved.\n",
    "\n",
    "    Returns:\n",
    "    - None (Displays the plot on a Jupyter window)\n",
    "    \"\"\"\n",
    "\n",
    "    # Compute correlations between all variables and 'demand'\n",
    "    correlations = df.corr()[\"demand\"].drop(\"demand\").sort_values()\n",
    "\n",
    "    # Generate a color palette from red to green\n",
    "    colors = sns.diverging_palette(10, 130, as_cmap=True)\n",
    "    color_mapped = correlations.map(colors)\n",
    "\n",
    "    # Set Seaborn style\n",
    "    sns.set_style(\n",
    "        \"whitegrid\", {\"axes.facecolor\": \"#c2c4c2\", \"grid.linewidth\": 1.5}\n",
    "    )  # Light grey background and thicker grid lines\n",
    "\n",
    "    # Create bar plot\n",
    "    fig = plt.figure(figsize=(12, 8))\n",
    "    plt.barh(correlations.index, correlations.values, color=color_mapped)\n",
    "\n",
    "    # Set labels and title with increased font size\n",
    "    plt.title(\"Correlation with Demand\", fontsize=18)\n",
    "    plt.xlabel(\"Correlation Coefficient\", fontsize=16)\n",
    "    plt.ylabel(\"Variable\", fontsize=16)\n",
    "    plt.xticks(fontsize=14)\n",
    "    plt.yticks(fontsize=14)\n",
    "    plt.grid(axis=\"x\")\n",
    "\n",
    "    plt.tight_layout()\n",
    "\n",
    "    # Save the plot if save_path is specified\n",
    "    if save_path:\n",
    "        plt.savefig(save_path, format=\"png\", dpi=600)\n",
    "\n",
    "    # prevent matplotlib from displaying the chart every time we call this function\n",
    "    plt.close(fig)\n",
    "\n",
    "    return fig"
   ]
  },
  {
   "cell_type": "code",
   "execution_count": 9,
   "id": "b0ea000b-71cf-4ced-be49-4f8d6440bd8e",
   "metadata": {},
   "outputs": [
    {
     "data": {
      "image/png": "[encoded data removed]",
      "text/plain": [
       "<Figure size 1200x800 with 1 Axes>"
      ]
     },
     "execution_count": 9,
     "metadata": {},
     "output_type": "execute_result"
    }
   ],
   "source": [
    "# Test the function\n",
    "correlation_plot = plot_correlation_with_demand(df, save_path=\"correlation_plot.png\")\n",
    "correlation_plot"
   ]
  },
  {
   "cell_type": "markdown",
   "id": "2047481d",
   "metadata": {},
   "source": [
    "### 残差プロット"
   ]
  },
  {
   "cell_type": "code",
   "execution_count": 10,
   "id": "bdeecf78",
   "metadata": {},
   "outputs": [],
   "source": [
    "def plot_residuals(model, dvalid, valid_y, save_path=None):\n",
    "    \"\"\"\n",
    "    Plots the residuals of the model predictions against the true values.\n",
    "\n",
    "    Args:\n",
    "    - model: The trained XGBoost model.\n",
    "    - dvalid (xgb.DMatrix): The validation data in XGBoost DMatrix format.\n",
    "    - valid_y (pd.Series): The true values for the validation set.\n",
    "    - save_path (str, optional): Path to save the generated plot. If not specified, plot won't be saved.\n",
    "\n",
    "    Returns:\n",
    "    - None (Displays the residuals plot on a Jupyter window)\n",
    "    \"\"\"\n",
    "\n",
    "    # Predict using the model\n",
    "    preds = model.predict(dvalid)\n",
    "\n",
    "    # Calculate residuals\n",
    "    residuals = valid_y - preds\n",
    "\n",
    "    # Set Seaborn style\n",
    "    sns.set_style(\"whitegrid\", {\"axes.facecolor\": \"#c2c4c2\", \"grid.linewidth\": 1.5})\n",
    "\n",
    "    # Create scatter plot\n",
    "    fig = plt.figure(figsize=(12, 8))\n",
    "    plt.scatter(valid_y, residuals, color=\"blue\", alpha=0.5)\n",
    "    plt.axhline(y=0, color=\"r\", linestyle=\"-\")\n",
    "\n",
    "    # Set labels, title and other plot properties\n",
    "    plt.title(\"Residuals vs True Values\", fontsize=18)\n",
    "    plt.xlabel(\"True Values\", fontsize=16)\n",
    "    plt.ylabel(\"Residuals\", fontsize=16)\n",
    "    plt.xticks(fontsize=14)\n",
    "    plt.yticks(fontsize=14)\n",
    "    plt.grid(axis=\"y\")\n",
    "\n",
    "    plt.tight_layout()\n",
    "\n",
    "    # Save the plot if save_path is specified\n",
    "    if save_path:\n",
    "        plt.savefig(save_path, format=\"png\", dpi=600)\n",
    "\n",
    "    # Show the plot\n",
    "    plt.close(fig)\n",
    "\n",
    "    return fig"
   ]
  },
  {
   "cell_type": "markdown",
   "id": "07ceee0a",
   "metadata": {},
   "source": [
    "## Feature Importance"
   ]
  },
  {
   "cell_type": "code",
   "execution_count": 11,
   "id": "c5e093cd",
   "metadata": {},
   "outputs": [],
   "source": [
    "def plot_feature_importance(model, booster):\n",
    "    \"\"\"\n",
    "    Plots feature importance for an XGBoost model.\n",
    "\n",
    "    Args:\n",
    "    - model: A trained XGBoost model\n",
    "\n",
    "    Returns:\n",
    "    - fig: The matplotlib figure object\n",
    "    \"\"\"\n",
    "    fig, ax = plt.subplots(figsize=(10, 8))\n",
    "    importance_type = \"weight\" if booster == \"gblinear\" else \"gain\"\n",
    "    xgb.plot_importance(\n",
    "        model,\n",
    "        importance_type=importance_type,\n",
    "        ax=ax,\n",
    "        title=f\"Feature Importance based on {importance_type}\",\n",
    "    )\n",
    "    plt.tight_layout()\n",
    "    plt.close(fig)\n",
    "\n",
    "    return fig"
   ]
  },
  {
   "cell_type": "markdown",
   "id": "cb61acb0",
   "metadata": {},
   "source": [
    "## MLflow実験の設定"
   ]
  },
  {
   "cell_type": "code",
   "execution_count": 12,
   "id": "4a3606e7",
   "metadata": {},
   "outputs": [],
   "source": [
    "def get_or_create_experiment(experiment_name):\n",
    "    \"\"\"\n",
    "    Retrieve the ID of an existing MLflow experiment or create a new one if it doesn't exist.\n",
    "\n",
    "    This function checks if an experiment with the given name exists within MLflow.\n",
    "    If it does, the function returns its ID. If not, it creates a new experiment\n",
    "    with the provided name and returns its ID.\n",
    "\n",
    "    Parameters:\n",
    "    - experiment_name (str): Name of the MLflow experiment.\n",
    "\n",
    "    Returns:\n",
    "    - str: ID of the existing or newly created MLflow experiment.\n",
    "    \"\"\"\n",
    "\n",
    "    if experiment := mlflow.get_experiment_by_name(experiment_name):\n",
    "        return experiment.experiment_id\n",
    "    else:\n",
    "        return mlflow.create_experiment(experiment_name)"
   ]
  },
  {
   "cell_type": "markdown",
   "id": "423530dd",
   "metadata": {},
   "source": [
    "### ハイパーパラメータチューニング実行用の実験を作成"
   ]
  },
  {
   "cell_type": "code",
   "execution_count": 14,
   "id": "6c9ede21",
   "metadata": {},
   "outputs": [
    {
     "data": {
      "text/plain": [
       "'525481175147802494'"
      ]
     },
     "execution_count": 14,
     "metadata": {},
     "output_type": "execute_result"
    }
   ],
   "source": [
    "experiment_id = get_or_create_experiment(\"Apples_Demand(Optuna)\")\n",
    "experiment_id"
   ]
  },
  {
   "cell_type": "markdown",
   "id": "c308bcba",
   "metadata": {},
   "source": [
    "### MLflowの設定とモデル学習のためのデータ前処理"
   ]
  },
  {
   "cell_type": "code",
   "execution_count": 15,
   "id": "074fd487",
   "metadata": {},
   "outputs": [],
   "source": [
    "# Set the current active MLflow experiment\n",
    "mlflow.set_experiment(experiment_id=experiment_id)\n",
    "\n",
    "# Preprocess the dataset\n",
    "X = df.drop(columns=[\"date\", \"demand\"])\n",
    "y = df[\"demand\"]\n",
    "train_x, valid_x, train_y, valid_y = train_test_split(X, y, test_size=0.25)\n",
    "dtrain = xgb.DMatrix(train_x, label=train_y)\n",
    "dvalid = xgb.DMatrix(valid_x, label=valid_y)"
   ]
  },
  {
   "cell_type": "markdown",
   "id": "7884d226",
   "metadata": {},
   "source": [
    "## 学習"
   ]
  },
  {
   "cell_type": "markdown",
   "id": "9b330b89-f82f-4fc0-b929-692f7bc3e040",
   "metadata": {},
   "source": [
    "### ロギングコールバックの実装"
   ]
  },
  {
   "cell_type": "code",
   "execution_count": 16,
   "id": "59065827",
   "metadata": {},
   "outputs": [],
   "source": [
    "# override Optuna's default logging to ERROR only\n",
    "optuna.logging.set_verbosity(optuna.logging.ERROR)\n",
    "\n",
    "# define a logging callback that will report on only new challenger parameter configurations if a\n",
    "# trial has usurped the state of 'best conditions'\n",
    "\n",
    "\n",
    "def champion_callback(study, frozen_trial):\n",
    "    \"\"\"\n",
    "    Logging callback that will report when a new trial iteration improves upon existing\n",
    "    best trial values.\n",
    "\n",
    "    Note: This callback is not intended for use in distributed computing systems such as Spark\n",
    "    or Ray due to the micro-batch iterative implementation for distributing trials to a cluster's\n",
    "    workers or agents.\n",
    "    The race conditions with file system state management for distributed trials will render\n",
    "    inconsistent values with this callback.\n",
    "    \"\"\"\n",
    "\n",
    "    winner = study.user_attrs.get(\"winner\", None)\n",
    "\n",
    "    if study.best_value and winner != study.best_value:\n",
    "        study.set_user_attr(\"winner\", study.best_value)\n",
    "        if winner:\n",
    "            improvement_percent = (abs(winner - study.best_value) / study.best_value) * 100\n",
    "            print(\n",
    "                f\"Trial {frozen_trial.number} achieved value: {frozen_trial.value} with \"\n",
    "                f\"{improvement_percent: .4f}% improvement\"\n",
    "            )\n",
    "        else:\n",
    "            print(f\"Initial trial {frozen_trial.number} achieved value: {frozen_trial.value}\")"
   ]
  },
  {
   "cell_type": "code",
   "execution_count": 17,
   "id": "e5e6ed75",
   "metadata": {},
   "outputs": [],
   "source": [
    "def objective(trial):\n",
    "    with mlflow.start_run(nested=True):\n",
    "        # Define hyperparameters\n",
    "        params = {\n",
    "            \"objective\": \"reg:squarederror\",\n",
    "            \"eval_metric\": \"rmse\",\n",
    "            \"booster\": trial.suggest_categorical(\"booster\", [\"gbtree\", \"gblinear\", \"dart\"]),\n",
    "            \"lambda\": trial.suggest_float(\"lambda\", 1e-8, 1.0, log=True),\n",
    "            \"alpha\": trial.suggest_float(\"alpha\", 1e-8, 1.0, log=True),\n",
    "        }\n",
    "\n",
    "        if params[\"booster\"] == \"gbtree\" or params[\"booster\"] == \"dart\":\n",
    "            params[\"max_depth\"] = trial.suggest_int(\"max_depth\", 1, 9)\n",
    "            params[\"eta\"] = trial.suggest_float(\"eta\", 1e-8, 1.0, log=True)\n",
    "            params[\"gamma\"] = trial.suggest_float(\"gamma\", 1e-8, 1.0, log=True)\n",
    "            params[\"grow_policy\"] = trial.suggest_categorical(\n",
    "                \"grow_policy\", [\"depthwise\", \"lossguide\"]\n",
    "            )\n",
    "\n",
    "        # Train XGBoost model\n",
    "        bst = xgb.train(params, dtrain)\n",
    "        preds = bst.predict(dvalid)\n",
    "        error = mean_squared_error(valid_y, preds)\n",
    "\n",
    "        # Log to MLflow\n",
    "        mlflow.log_params(params)\n",
    "        mlflow.log_metric(\"mse\", error)\n",
    "        mlflow.log_metric(\"rmse\", math.sqrt(error))\n",
    "\n",
    "    return error"
   ]
  },
  {
   "cell_type": "markdown",
   "id": "52d228bc",
   "metadata": {},
   "source": [
    "### パイプラインの統合\n",
    "\n",
    "ハイパーパラメータチューニングのためのOptunaと実験トラッキングのためのMLflowを組み合わせます。"
   ]
  },
  {
   "cell_type": "code",
   "execution_count": 18,
   "id": "f5303b22",
   "metadata": {},
   "outputs": [],
   "source": [
    "run_name = \"first_attempt\""
   ]
  },
  {
   "cell_type": "markdown",
   "id": "313d29aa-d9f4-49f3-bdf5-b47a3cf66958",
   "metadata": {},
   "source": [
    "統合したパイプラインを実行することにより、学習と記録が実行される。"
   ]
  },
  {
   "cell_type": "code",
   "execution_count": 19,
   "id": "81f90731",
   "metadata": {},
   "outputs": [
    {
     "name": "stdout",
     "output_type": "stream",
     "text": [
      "Initial trial 0 achieved value: 58210.72333475486\n",
      "Trial 1 achieved value: 57462.26688006556 with  1.3025% improvement\n",
      "Trial 9 achieved value: 57365.856518985245 with  0.1681% improvement\n",
      "Trial 17 achieved value: 57306.53431261072 with  0.1035% improvement\n",
      "Trial 21 achieved value: 57268.03407549683 with  0.0672% improvement\n",
      "Trial 39 achieved value: 40854.529122371896 with  40.1755% improvement\n",
      "Trial 40 achieved value: 39106.9887342825 with  4.4686% improvement\n",
      "Trial 41 achieved value: 38293.241029700395 with  2.1250% improvement\n",
      "Trial 47 achieved value: 38056.19064564407 with  0.6229% improvement\n",
      "Trial 50 achieved value: 35446.49395668956 with  7.3624% improvement\n",
      "Trial 51 achieved value: 35338.750896916565 with  0.3049% improvement\n",
      "Trial 108 achieved value: 35051.5559299406 with  0.8194% improvement\n",
      "Trial 115 achieved value: 34708.30746072281 with  0.9890% improvement\n",
      "Trial 185 achieved value: 34631.50125192538 with  0.2218% improvement\n",
      "Trial 400 achieved value: 34507.89018793064 with  0.3582% improvement\n"
     ]
    },
    {
     "name": "stderr",
     "output_type": "stream",
     "text": [
      "/home/user01/.local/lib/python3.10/site-packages/mlflow/types/utils.py:393: UserWarning: Hint: Inferred schema contains integer column(s). Integer columns in Python cannot represent missing values. If your input data contains missing values at inference time, it will be encoded as floats and will cause a schema enforcement error. The best way to avoid this problem is to infer the model schema based on a realistic data sample (training dataset) that includes missing values. Alternatively, you can declare integer columns as doubles (float64) whenever these columns may have missing values. See `Handling Integers With Missing Values <https://www.mlflow.org/docs/latest/models.html#handling-integers-with-missing-values>`_ for more details.\n",
      "  warnings.warn(\n"
     ]
    }
   ],
   "source": [
    "# Initiate the parent run and call the hyperparameter tuning child run logic\n",
    "with mlflow.start_run(experiment_id=experiment_id, run_name=run_name, nested=True):\n",
    "    # Initialize the Optuna study\n",
    "    study = optuna.create_study(direction=\"minimize\")\n",
    "\n",
    "    # Execute the hyperparameter optimization trials.\n",
    "    # Note the addition of the `champion_callback` inclusion to control our logging\n",
    "    study.optimize(objective, n_trials=500, callbacks=[champion_callback])\n",
    "\n",
    "    mlflow.log_params(study.best_params)\n",
    "    mlflow.log_metric(\"best_mse\", study.best_value)\n",
    "    mlflow.log_metric(\"best_rmse\", math.sqrt(study.best_value))\n",
    "\n",
    "    # Log tags\n",
    "    mlflow.set_tags(\n",
    "        tags={\n",
    "            \"project\": \"Apple Demand Project\",\n",
    "            \"optimizer_engine\": \"optuna\",\n",
    "            \"model_family\": \"xgboost\",\n",
    "            \"feature_set_version\": 1,\n",
    "        }\n",
    "    )\n",
    "\n",
    "    # Log a fit model instance\n",
    "    model = xgb.train(study.best_params, dtrain)\n",
    "\n",
    "    # Log the correlation plot\n",
    "    mlflow.log_figure(figure=correlation_plot, artifact_file=\"correlation_plot.png\")\n",
    "\n",
    "    # Log the feature importances plot\n",
    "    importances = plot_feature_importance(model, booster=study.best_params.get(\"booster\"))\n",
    "    mlflow.log_figure(figure=importances, artifact_file=\"feature_importances.png\")\n",
    "\n",
    "    # Log the residuals plot\n",
    "    residuals = plot_residuals(model, dvalid, valid_y)\n",
    "    mlflow.log_figure(figure=residuals, artifact_file=\"residuals.png\")\n",
    "\n",
    "    artifact_path = \"model\"\n",
    "\n",
    "    mlflow.xgboost.log_model(\n",
    "        xgb_model=model,\n",
    "        artifact_path=artifact_path,\n",
    "        input_example=train_x.iloc[[0]],\n",
    "        model_format=\"ubj\",\n",
    "        metadata={\"model_data_version\": 1},\n",
    "    )\n",
    "\n",
    "    # Get the logged model uri so that we can load it from the artifact store\n",
    "    model_uri = mlflow.get_artifact_uri(artifact_path)"
   ]
  },
  {
   "cell_type": "markdown",
   "id": "dfcd159d-db96-4d4c-981c-ac68c73bd1df",
   "metadata": {},
   "source": [
    "Web UIより、今回の実験の結果としてどのように保存されたかを確認する。  \n",
    "特にOptunaのハイパーパラメータ探索のステップ単位で保存され、モデル自体は実験の最終的な結果として保存されていることが確認することができる。"
   ]
  },
  {
   "cell_type": "code",
   "execution_count": 20,
   "id": "20f2e23b",
   "metadata": {},
   "outputs": [
    {
     "data": {
      "text/plain": [
       "'mlflow-artifacts:/525481175147802494/d0fc4542ad4446d4a590185ab0ad81d4/artifacts/model'"
      ]
     },
     "execution_count": 20,
     "metadata": {},
     "output_type": "execute_result"
    }
   ],
   "source": [
    "model_uri"
   ]
  },
  {
   "cell_type": "code",
   "execution_count": null,
   "id": "40868510-e617-4c1c-8d7e-329bea94da59",
   "metadata": {},
   "outputs": [],
   "source": []
  }
 ],
 "metadata": {
  "kernelspec": {
   "display_name": "Python 3 (ipykernel)",
   "language": "python",
   "name": "python3"
  },
  "language_info": {
   "codemirror_mode": {
    "name": "ipython",
    "version": 3
   },
   "file_extension": ".py",
   "mimetype": "text/x-python",
   "name": "python",
   "nbconvert_exporter": "python",
   "pygments_lexer": "ipython3",
   "version": "3.10.12"
  }
 },
 "nbformat": 4,
 "nbformat_minor": 5
}
