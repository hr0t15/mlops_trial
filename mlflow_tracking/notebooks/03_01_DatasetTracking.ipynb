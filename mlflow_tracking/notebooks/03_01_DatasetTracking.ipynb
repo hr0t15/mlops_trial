{
 "cells": [
  {
   "cell_type": "markdown",
   "id": "0b3d31a3-a42c-4344-99dd-bdcdb5a01510",
   "metadata": {},
   "source": [
    "# Dataset Trackingについて"
   ]
  },
  {
   "cell_type": "markdown",
   "id": "6e60250f-51ab-4389-adc5-d2963638bd71",
   "metadata": {},
   "source": [
    "MLFLowに対して、データセットに関する情報も記録可能である。\n",
    "\n",
    "ここで用いる主な抽象コンポーネントとして、`Dataset` と `DatasetSource`の2つがある。"
   ]
  },
  {
   "cell_type": "markdown",
   "id": "e39d7427-79a5-4fc5-a59c-f99e59104b6b",
   "metadata": {
    "jp-MarkdownHeadingCollapsed": true
   },
   "source": [
    "### Dataset\n",
    "\n",
    "`Dataset`は、特定のログされたデータセットに関する情報を保持するメタデータトラッキングオブジェクトである。\n",
    "\n",
    "`Dataset`オブジェクトに保存される情報には、特徴量、ターゲット、予測、およびデータセットの名前、ダイジェスト（ハッシュ）、スキーマ、プロファイルなどのメタデータが含まれる。  \n",
    "このメタデータは `mlflow.log_input()` APIを使用してログできる。  \n",
    "モジュールは、さまざまなデータタイプから `mlflow.data.dataset.Dataset` オブジェクトを構築するための関数を提供する。\n",
    "\n",
    "この抽象クラスの具体的な実装には以下が含まれます：\n",
    "\n",
    "* `mlflow.data.spark_dataset.SparkDataset`\n",
    "* `mlflow.data.pandas_dataset.PandasDataset`\n",
    "* `mlflow.data.numpy_dataset.NumpyDataset`\n",
    "* `mlflow.data.huggingface_dataset.HuggingFaceDataset`\n",
    "* `mlflow.data.tensorflow_dataset.TensorFlowDataset`\n",
    "\n",
    "### DatasetSource\n",
    "\n",
    "`DatasetSource`は、与えられた`Dataset`オブジェクトのコンポーネントであり、データの元のソースへのリンクされた系統を提供する。\n",
    "\n",
    "`Dataset`の`DatasetSource`コンポーネントは、データセットのソースを表し、S3のディレクトリ、デルタテーブル、またはURLなどが該当する。  \n",
    "これは、データの起源を理解するために`Dataset`内で参照される。  \n",
    "ログされたデータセットの`DatasetSource`は、`Dataset`オブジェクトの`source`プロパティにアクセスするか、`mlflow.data.get_source()` APIを使用することで取得できます。\n",
    "\n",
    "MLflow内でサポートされている多くの自動ログ有効化フレーバーは、データセット自体をログする際に自動的にデータセットのソースをロギングを行う。"
   ]
  },
  {
   "cell_type": "markdown",
   "id": "b12f382f-3310-4898-b805-be2d7bcc9c8a",
   "metadata": {},
   "source": [
    "## 検証"
   ]
  },
  {
   "cell_type": "markdown",
   "id": "80ad5c9d-4112-480b-bed6-0657a6417f90",
   "metadata": {},
   "source": [
    "MLFlowのGithubリポジトリにあるwinequality-whiteデータセットを用いて、Dataset Trackingの挙動について確認する。\n",
    "\n",
    "まずはライブラリのインポートを行い、サーバにMLFlow Sessionを接続する。"
   ]
  },
  {
   "cell_type": "code",
   "execution_count": 1,
   "id": "072a1319-8390-4ec5-b715-3e518300e998",
   "metadata": {},
   "outputs": [],
   "source": [
    "import mlflow\n",
    "import pandas as pd\n",
    "from mlflow.data.pandas_dataset import PandasDataset"
   ]
  },
  {
   "cell_type": "code",
   "execution_count": 2,
   "id": "ac5c66ae-918b-48eb-97b7-ac17566544ef",
   "metadata": {},
   "outputs": [],
   "source": [
    "mlflow.set_tracking_uri(\"http://localhost:5000\")"
   ]
  },
  {
   "cell_type": "markdown",
   "id": "cd97cf3f-cf03-480f-9ad4-65f6917567c4",
   "metadata": {},
   "source": [
    "実験名も以下の通り定義する。"
   ]
  },
  {
   "cell_type": "code",
   "execution_count": 3,
   "id": "0b0a1ac8-bf59-4071-8b33-0b1c6fe476ea",
   "metadata": {},
   "outputs": [
    {
     "name": "stderr",
     "output_type": "stream",
     "text": [
      "2024/04/24 16:01:27 INFO mlflow.tracking.fluent: Experiment with name 'Dataset-Tracking' does not exist. Creating a new experiment.\n"
     ]
    },
    {
     "data": {
      "text/plain": [
       "<Experiment: artifact_location='mlflow-artifacts:/902688651372085152', creation_time=1713942087202, experiment_id='902688651372085152', last_update_time=1713942087202, lifecycle_stage='active', name='Dataset-Tracking', tags={}>"
      ]
     },
     "execution_count": 3,
     "metadata": {},
     "output_type": "execute_result"
    }
   ],
   "source": [
    "mlflow.set_experiment(\"Dataset-Tracking\")"
   ]
  },
  {
   "cell_type": "markdown",
   "id": "083929d2-d3b3-4eff-952c-e08527e78610",
   "metadata": {},
   "source": [
    "### データセットに関する処理"
   ]
  },
  {
   "cell_type": "markdown",
   "id": "c16a502d-b998-4162-8bc3-5876fd62f280",
   "metadata": {},
   "source": [
    "MLFlowのGithubリポジトリにあるwinequality-whiteデータセットをダウンロードし、Trackingを行う。  \n",
    "ダウンロード用のURLを`dataset_source_url`という変数に格納する。"
   ]
  },
  {
   "cell_type": "code",
   "execution_count": 4,
   "id": "c8fc4081-a60f-4655-aa5c-ac62f397acc8",
   "metadata": {},
   "outputs": [
    {
     "data": {
      "text/plain": [
       "'https://raw.githubusercontent.com/mlflow/mlflow/master/tests/datasets/winequality-white.csv'"
      ]
     },
     "execution_count": 4,
     "metadata": {},
     "output_type": "execute_result"
    }
   ],
   "source": [
    "dataset_source_url = \"https://raw.githubusercontent.com/mlflow/mlflow/master/tests/datasets/winequality-white.csv\"\n",
    "dataset_source_url"
   ]
  },
  {
   "cell_type": "markdown",
   "id": "92ff5455-3274-4e7c-b8a4-1679910c0f8d",
   "metadata": {},
   "source": [
    "`dataset_source_url`にあるcsvファイルのデータを、データフレーム`df`に取り込む。"
   ]
  },
  {
   "cell_type": "code",
   "execution_count": 5,
   "id": "0f514773-19ef-49e1-80bd-4eff6c4ee1a1",
   "metadata": {},
   "outputs": [
    {
     "data": {
      "text/html": [
       "<div>\n",
       "<style scoped>\n",
       "    .dataframe tbody tr th:only-of-type {\n",
       "        vertical-align: middle;\n",
       "    }\n",
       "\n",
       "    .dataframe tbody tr th {\n",
       "        vertical-align: top;\n",
       "    }\n",
       "\n",
       "    .dataframe thead th {\n",
       "        text-align: right;\n",
       "    }\n",
       "</style>\n",
       "<table border=\"1\" class=\"dataframe\">\n",
       "  <thead>\n",
       "    <tr style=\"text-align: right;\">\n",
       "      <th></th>\n",
       "      <th>fixed acidity</th>\n",
       "      <th>volatile acidity</th>\n",
       "      <th>citric acid</th>\n",
       "      <th>residual sugar</th>\n",
       "      <th>chlorides</th>\n",
       "      <th>free sulfur dioxide</th>\n",
       "      <th>total sulfur dioxide</th>\n",
       "      <th>density</th>\n",
       "      <th>pH</th>\n",
       "      <th>sulphates</th>\n",
       "      <th>alcohol</th>\n",
       "      <th>quality</th>\n",
       "    </tr>\n",
       "  </thead>\n",
       "  <tbody>\n",
       "    <tr>\n",
       "      <th>0</th>\n",
       "      <td>7.0</td>\n",
       "      <td>0.27</td>\n",
       "      <td>0.36</td>\n",
       "      <td>20.7</td>\n",
       "      <td>0.045</td>\n",
       "      <td>45.0</td>\n",
       "      <td>170.0</td>\n",
       "      <td>1.00100</td>\n",
       "      <td>3.00</td>\n",
       "      <td>0.45</td>\n",
       "      <td>8.8</td>\n",
       "      <td>6</td>\n",
       "    </tr>\n",
       "    <tr>\n",
       "      <th>1</th>\n",
       "      <td>6.3</td>\n",
       "      <td>0.30</td>\n",
       "      <td>0.34</td>\n",
       "      <td>1.6</td>\n",
       "      <td>0.049</td>\n",
       "      <td>14.0</td>\n",
       "      <td>132.0</td>\n",
       "      <td>0.99400</td>\n",
       "      <td>3.30</td>\n",
       "      <td>0.49</td>\n",
       "      <td>9.5</td>\n",
       "      <td>6</td>\n",
       "    </tr>\n",
       "    <tr>\n",
       "      <th>2</th>\n",
       "      <td>8.1</td>\n",
       "      <td>0.28</td>\n",
       "      <td>0.40</td>\n",
       "      <td>6.9</td>\n",
       "      <td>0.050</td>\n",
       "      <td>30.0</td>\n",
       "      <td>97.0</td>\n",
       "      <td>0.99510</td>\n",
       "      <td>3.26</td>\n",
       "      <td>0.44</td>\n",
       "      <td>10.1</td>\n",
       "      <td>6</td>\n",
       "    </tr>\n",
       "    <tr>\n",
       "      <th>3</th>\n",
       "      <td>7.2</td>\n",
       "      <td>0.23</td>\n",
       "      <td>0.32</td>\n",
       "      <td>8.5</td>\n",
       "      <td>0.058</td>\n",
       "      <td>47.0</td>\n",
       "      <td>186.0</td>\n",
       "      <td>0.99560</td>\n",
       "      <td>3.19</td>\n",
       "      <td>0.40</td>\n",
       "      <td>9.9</td>\n",
       "      <td>6</td>\n",
       "    </tr>\n",
       "    <tr>\n",
       "      <th>4</th>\n",
       "      <td>7.2</td>\n",
       "      <td>0.23</td>\n",
       "      <td>0.32</td>\n",
       "      <td>8.5</td>\n",
       "      <td>0.058</td>\n",
       "      <td>47.0</td>\n",
       "      <td>186.0</td>\n",
       "      <td>0.99560</td>\n",
       "      <td>3.19</td>\n",
       "      <td>0.40</td>\n",
       "      <td>9.9</td>\n",
       "      <td>6</td>\n",
       "    </tr>\n",
       "    <tr>\n",
       "      <th>...</th>\n",
       "      <td>...</td>\n",
       "      <td>...</td>\n",
       "      <td>...</td>\n",
       "      <td>...</td>\n",
       "      <td>...</td>\n",
       "      <td>...</td>\n",
       "      <td>...</td>\n",
       "      <td>...</td>\n",
       "      <td>...</td>\n",
       "      <td>...</td>\n",
       "      <td>...</td>\n",
       "      <td>...</td>\n",
       "    </tr>\n",
       "    <tr>\n",
       "      <th>4893</th>\n",
       "      <td>6.2</td>\n",
       "      <td>0.21</td>\n",
       "      <td>0.29</td>\n",
       "      <td>1.6</td>\n",
       "      <td>0.039</td>\n",
       "      <td>24.0</td>\n",
       "      <td>92.0</td>\n",
       "      <td>0.99114</td>\n",
       "      <td>3.27</td>\n",
       "      <td>0.50</td>\n",
       "      <td>11.2</td>\n",
       "      <td>6</td>\n",
       "    </tr>\n",
       "    <tr>\n",
       "      <th>4894</th>\n",
       "      <td>6.6</td>\n",
       "      <td>0.32</td>\n",
       "      <td>0.36</td>\n",
       "      <td>8.0</td>\n",
       "      <td>0.047</td>\n",
       "      <td>57.0</td>\n",
       "      <td>168.0</td>\n",
       "      <td>0.99490</td>\n",
       "      <td>3.15</td>\n",
       "      <td>0.46</td>\n",
       "      <td>9.6</td>\n",
       "      <td>5</td>\n",
       "    </tr>\n",
       "    <tr>\n",
       "      <th>4895</th>\n",
       "      <td>6.5</td>\n",
       "      <td>0.24</td>\n",
       "      <td>0.19</td>\n",
       "      <td>1.2</td>\n",
       "      <td>0.041</td>\n",
       "      <td>30.0</td>\n",
       "      <td>111.0</td>\n",
       "      <td>0.99254</td>\n",
       "      <td>2.99</td>\n",
       "      <td>0.46</td>\n",
       "      <td>9.4</td>\n",
       "      <td>6</td>\n",
       "    </tr>\n",
       "    <tr>\n",
       "      <th>4896</th>\n",
       "      <td>5.5</td>\n",
       "      <td>0.29</td>\n",
       "      <td>0.30</td>\n",
       "      <td>1.1</td>\n",
       "      <td>0.022</td>\n",
       "      <td>20.0</td>\n",
       "      <td>110.0</td>\n",
       "      <td>0.98869</td>\n",
       "      <td>3.34</td>\n",
       "      <td>0.38</td>\n",
       "      <td>12.8</td>\n",
       "      <td>7</td>\n",
       "    </tr>\n",
       "    <tr>\n",
       "      <th>4897</th>\n",
       "      <td>6.0</td>\n",
       "      <td>0.21</td>\n",
       "      <td>0.38</td>\n",
       "      <td>0.8</td>\n",
       "      <td>0.020</td>\n",
       "      <td>22.0</td>\n",
       "      <td>98.0</td>\n",
       "      <td>0.98941</td>\n",
       "      <td>3.26</td>\n",
       "      <td>0.32</td>\n",
       "      <td>11.8</td>\n",
       "      <td>6</td>\n",
       "    </tr>\n",
       "  </tbody>\n",
       "</table>\n",
       "<p>4898 rows × 12 columns</p>\n",
       "</div>"
      ],
      "text/plain": [
       "      fixed acidity  volatile acidity  citric acid  residual sugar  chlorides  \\\n",
       "0               7.0              0.27         0.36            20.7      0.045   \n",
       "1               6.3              0.30         0.34             1.6      0.049   \n",
       "2               8.1              0.28         0.40             6.9      0.050   \n",
       "3               7.2              0.23         0.32             8.5      0.058   \n",
       "4               7.2              0.23         0.32             8.5      0.058   \n",
       "...             ...               ...          ...             ...        ...   \n",
       "4893            6.2              0.21         0.29             1.6      0.039   \n",
       "4894            6.6              0.32         0.36             8.0      0.047   \n",
       "4895            6.5              0.24         0.19             1.2      0.041   \n",
       "4896            5.5              0.29         0.30             1.1      0.022   \n",
       "4897            6.0              0.21         0.38             0.8      0.020   \n",
       "\n",
       "      free sulfur dioxide  total sulfur dioxide  density    pH  sulphates  \\\n",
       "0                    45.0                 170.0  1.00100  3.00       0.45   \n",
       "1                    14.0                 132.0  0.99400  3.30       0.49   \n",
       "2                    30.0                  97.0  0.99510  3.26       0.44   \n",
       "3                    47.0                 186.0  0.99560  3.19       0.40   \n",
       "4                    47.0                 186.0  0.99560  3.19       0.40   \n",
       "...                   ...                   ...      ...   ...        ...   \n",
       "4893                 24.0                  92.0  0.99114  3.27       0.50   \n",
       "4894                 57.0                 168.0  0.99490  3.15       0.46   \n",
       "4895                 30.0                 111.0  0.99254  2.99       0.46   \n",
       "4896                 20.0                 110.0  0.98869  3.34       0.38   \n",
       "4897                 22.0                  98.0  0.98941  3.26       0.32   \n",
       "\n",
       "      alcohol  quality  \n",
       "0         8.8        6  \n",
       "1         9.5        6  \n",
       "2        10.1        6  \n",
       "3         9.9        6  \n",
       "4         9.9        6  \n",
       "...       ...      ...  \n",
       "4893     11.2        6  \n",
       "4894      9.6        5  \n",
       "4895      9.4        6  \n",
       "4896     12.8        7  \n",
       "4897     11.8        6  \n",
       "\n",
       "[4898 rows x 12 columns]"
      ]
     },
     "execution_count": 5,
     "metadata": {},
     "output_type": "execute_result"
    }
   ],
   "source": [
    "df = pd.read_csv(dataset_source_url, delimiter=\";\")\n",
    "df"
   ]
  },
  {
   "cell_type": "markdown",
   "id": "8a5bbc7e-3c62-4700-ad03-998f5e08e605",
   "metadata": {},
   "source": [
    "### 実行処理のロギング"
   ]
  },
  {
   "cell_type": "markdown",
   "id": "89d32f64-8c09-4bb4-a162-cb33c0d128f0",
   "metadata": {},
   "source": [
    "PandasDatasetのインスタンス`dataset`を以下の通り作成する。  \n",
    "特に`source`によりデータソースのURLを指定するが、HTTP URLだけでなく、S3 URIなどの指定も可能である。"
   ]
  },
  {
   "cell_type": "code",
   "execution_count": 6,
   "id": "abb4e917-e1af-4151-ab76-0e594fd7b605",
   "metadata": {},
   "outputs": [
    {
     "name": "stderr",
     "output_type": "stream",
     "text": [
      "/home/user01/.local/lib/python3.10/site-packages/mlflow/data/digest_utils.py:26: FutureWarning: DataFrame.applymap has been deprecated. Use DataFrame.map instead.\n",
      "  string_columns = trimmed_df.columns[(df.applymap(type) == str).all(0)]\n"
     ]
    },
    {
     "data": {
      "text/plain": [
       "<mlflow.data.pandas_dataset.PandasDataset at 0x7f2817dd5420>"
      ]
     },
     "execution_count": 6,
     "metadata": {},
     "output_type": "execute_result"
    }
   ],
   "source": [
    "dataset = mlflow.data.from_pandas(\n",
    "      df\n",
    "    , source=dataset_source_url\n",
    "    , name=\"wine quality - white\"\n",
    "    , targets=\"quality\"\n",
    ")\n",
    "dataset"
   ]
  },
  {
   "cell_type": "markdown",
   "id": "2227b724-d650-490f-9a5c-7ae9d5528944",
   "metadata": {},
   "source": [
    "実行処理をロギングする。"
   ]
  },
  {
   "cell_type": "code",
   "execution_count": 7,
   "id": "b7d21989-e0dd-4ee0-a3af-b272e4d6011a",
   "metadata": {},
   "outputs": [
    {
     "name": "stderr",
     "output_type": "stream",
     "text": [
      "/home/user01/.local/lib/python3.10/site-packages/mlflow/types/utils.py:393: UserWarning: Hint: Inferred schema contains integer column(s). Integer columns in Python cannot represent missing values. If your input data contains missing values at inference time, it will be encoded as floats and will cause a schema enforcement error. The best way to avoid this problem is to infer the model schema based on a realistic data sample (training dataset) that includes missing values. Alternatively, you can declare integer columns as doubles (float64) whenever these columns may have missing values. See `Handling Integers With Missing Values <https://www.mlflow.org/docs/latest/models.html#handling-integers-with-missing-values>`_ for more details.\n",
      "  warnings.warn(\n"
     ]
    }
   ],
   "source": [
    "run_name = \"Dataset Track Trial\"\n",
    "\n",
    "with mlflow.start_run(run_name=run_name) as run:\n",
    "    mlflow.log_input(dataset, context=\"train/test\")"
   ]
  },
  {
   "cell_type": "markdown",
   "id": "34ee376f-adc0-4172-8fb3-72b30875376b",
   "metadata": {},
   "source": [
    "ロギングが終わったら、MLFLow UIより今回のエクスペリメントの結果を確認する。  \n",
    "ここでは特にDatasetsの扱いについて確認をしてほしい。"
   ]
  },
  {
   "cell_type": "markdown",
   "id": "13541f63-45d5-4850-bc53-e640a48e661f",
   "metadata": {},
   "source": [
    "### 実行処理に関する出力"
   ]
  },
  {
   "cell_type": "code",
   "execution_count": 8,
   "id": "d384d00e-4df1-4b10-9bbe-a42ea723f7ad",
   "metadata": {},
   "outputs": [
    {
     "data": {
      "text/plain": [
       "<Run: data=<RunData: metrics={}, params={}, tags={'mlflow.runName': 'Dataset Track Trial',\n",
       " 'mlflow.source.name': '/home/user01/.local/lib/python3.10/site-packages/ipykernel_launcher.py',\n",
       " 'mlflow.source.type': 'LOCAL',\n",
       " 'mlflow.user': 'user01'}>, info=<RunInfo: artifact_uri='mlflow-artifacts:/902688651372085152/5f845e4899564f16b795080a012d96c5/artifacts', end_time=1713942087754, experiment_id='902688651372085152', lifecycle_stage='active', run_id='5f845e4899564f16b795080a012d96c5', run_name='Dataset Track Trial', run_uuid='5f845e4899564f16b795080a012d96c5', start_time=1713942087686, status='FINISHED', user_id='user01'>, inputs=<RunInputs: dataset_inputs=[<DatasetInput: dataset=<Dataset: digest='2a1e42c4', name='wine quality - white', profile='{\"num_rows\": 4898, \"num_elements\": 58776}', schema=('{\"mlflow_colspec\": [{\"type\": \"double\", \"name\": \"fixed acidity\", \"required\": '\n",
       " 'true}, {\"type\": \"double\", \"name\": \"volatile acidity\", \"required\": true}, '\n",
       " '{\"type\": \"double\", \"name\": \"citric acid\", \"required\": true}, {\"type\": '\n",
       " '\"double\", \"name\": \"residual sugar\", \"required\": true}, {\"type\": \"double\", '\n",
       " '\"name\": \"chlorides\", \"required\": true}, {\"type\": \"double\", \"name\": \"free '\n",
       " 'sulfur dioxide\", \"required\": true}, {\"type\": \"double\", \"name\": \"total sulfur '\n",
       " 'dioxide\", \"required\": true}, {\"type\": \"double\", \"name\": \"density\", '\n",
       " '\"required\": true}, {\"type\": \"double\", \"name\": \"pH\", \"required\": true}, '\n",
       " '{\"type\": \"double\", \"name\": \"sulphates\", \"required\": true}, {\"type\": '\n",
       " '\"double\", \"name\": \"alcohol\", \"required\": true}, {\"type\": \"long\", \"name\": '\n",
       " '\"quality\", \"required\": true}]}'), source=('{\"url\": '\n",
       " '\"https://raw.githubusercontent.com/mlflow/mlflow/master/tests/datasets/winequality-white.csv\"}'), source_type='http'>, tags=[<InputTag: key='mlflow.data.context', value='train/test'>]>]>>"
      ]
     },
     "execution_count": 8,
     "metadata": {},
     "output_type": "execute_result"
    }
   ],
   "source": [
    "# 実行処理の情報の取得\n",
    "logged_run = mlflow.get_run(run.info.run_id)\n",
    "logged_run"
   ]
  },
  {
   "cell_type": "code",
   "execution_count": 9,
   "id": "07b8c262-5199-49b1-bd73-dd9c20750e37",
   "metadata": {},
   "outputs": [
    {
     "data": {
      "text/plain": [
       "<Dataset: digest='2a1e42c4', name='wine quality - white', profile='{\"num_rows\": 4898, \"num_elements\": 58776}', schema=('{\"mlflow_colspec\": [{\"type\": \"double\", \"name\": \"fixed acidity\", \"required\": '\n",
       " 'true}, {\"type\": \"double\", \"name\": \"volatile acidity\", \"required\": true}, '\n",
       " '{\"type\": \"double\", \"name\": \"citric acid\", \"required\": true}, {\"type\": '\n",
       " '\"double\", \"name\": \"residual sugar\", \"required\": true}, {\"type\": \"double\", '\n",
       " '\"name\": \"chlorides\", \"required\": true}, {\"type\": \"double\", \"name\": \"free '\n",
       " 'sulfur dioxide\", \"required\": true}, {\"type\": \"double\", \"name\": \"total sulfur '\n",
       " 'dioxide\", \"required\": true}, {\"type\": \"double\", \"name\": \"density\", '\n",
       " '\"required\": true}, {\"type\": \"double\", \"name\": \"pH\", \"required\": true}, '\n",
       " '{\"type\": \"double\", \"name\": \"sulphates\", \"required\": true}, {\"type\": '\n",
       " '\"double\", \"name\": \"alcohol\", \"required\": true}, {\"type\": \"long\", \"name\": '\n",
       " '\"quality\", \"required\": true}]}'), source=('{\"url\": '\n",
       " '\"https://raw.githubusercontent.com/mlflow/mlflow/master/tests/datasets/winequality-white.csv\"}'), source_type='http'>"
      ]
     },
     "execution_count": 9,
     "metadata": {},
     "output_type": "execute_result"
    }
   ],
   "source": [
    "# Datasetオブジェクトの取得\n",
    "logged_dataset = logged_run.inputs.dataset_inputs[0].dataset\n",
    "logged_dataset"
   ]
  },
  {
   "cell_type": "code",
   "execution_count": 10,
   "id": "ceb6a236-90aa-45fe-8cb0-02072ad27428",
   "metadata": {},
   "outputs": [
    {
     "name": "stdout",
     "output_type": "stream",
     "text": [
      "Dataset name: wine quality - white\n",
      "Dataset digest: 2a1e42c4\n",
      "Dataset profile: {\"num_rows\": 4898, \"num_elements\": 58776}\n",
      "Dataset schema: {\"mlflow_colspec\": [{\"type\": \"double\", \"name\": \"fixed acidity\", \"required\": true}, {\"type\": \"double\", \"name\": \"volatile acidity\", \"required\": true}, {\"type\": \"double\", \"name\": \"citric acid\", \"required\": true}, {\"type\": \"double\", \"name\": \"residual sugar\", \"required\": true}, {\"type\": \"double\", \"name\": \"chlorides\", \"required\": true}, {\"type\": \"double\", \"name\": \"free sulfur dioxide\", \"required\": true}, {\"type\": \"double\", \"name\": \"total sulfur dioxide\", \"required\": true}, {\"type\": \"double\", \"name\": \"density\", \"required\": true}, {\"type\": \"double\", \"name\": \"pH\", \"required\": true}, {\"type\": \"double\", \"name\": \"sulphates\", \"required\": true}, {\"type\": \"double\", \"name\": \"alcohol\", \"required\": true}, {\"type\": \"long\", \"name\": \"quality\", \"required\": true}]}\n"
     ]
    }
   ],
   "source": [
    "# 記録されたDatasetの情報をいくつか確認する\n",
    "print(f\"Dataset name: {logged_dataset.name}\")\n",
    "print(f\"Dataset digest: {logged_dataset.digest}\")\n",
    "print(f\"Dataset profile: {logged_dataset.profile}\")\n",
    "print(f\"Dataset schema: {logged_dataset.schema}\")"
   ]
  },
  {
   "cell_type": "code",
   "execution_count": null,
   "id": "66c4edab-677e-4702-aa77-cf040abb268f",
   "metadata": {},
   "outputs": [],
   "source": []
  }
 ],
 "metadata": {
  "kernelspec": {
   "display_name": "Python 3 (ipykernel)",
   "language": "python",
   "name": "python3"
  },
  "language_info": {
   "codemirror_mode": {
    "name": "ipython",
    "version": 3
   },
   "file_extension": ".py",
   "mimetype": "text/x-python",
   "name": "python",
   "nbconvert_exporter": "python",
   "pygments_lexer": "ipython3",
   "version": "3.10.12"
  }
 },
 "nbformat": 4,
 "nbformat_minor": 5
}
