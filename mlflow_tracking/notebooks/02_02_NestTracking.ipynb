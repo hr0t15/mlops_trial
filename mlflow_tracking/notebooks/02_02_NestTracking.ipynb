{
 "cells": [
  {
   "cell_type": "markdown",
   "id": "d83168f1-2079-4918-91ad-744d651a30b4",
   "metadata": {},
   "source": [
    "# MLFLow Trackingへの機械学習プロセスの組み込み（２）\n",
    "\n",
    "先ほどは疑似データセットapple_dataを用いた実験結果の格納について確認した。  \n",
    "先ほどは実行処理を単体として確認したが、ここでは実行処理の単位をネストして保存することが可能であることを確認する。  \n",
    "\n",
    "ここではハイパーパラメータ`max_depth`の値のリスト`max_depths`を用意し、その値を順次実行して、その実行した結果をネストした単位で保存を行うことで確認する。"
   ]
  },
  {
   "cell_type": "markdown",
   "id": "95329e5f-1205-4bc5-9981-f2d568b57560",
   "metadata": {},
   "source": [
    "## 学習から評価まで"
   ]
  },
  {
   "cell_type": "markdown",
   "id": "c04c24ca-77b4-4210-a495-fb372afc3c71",
   "metadata": {},
   "source": [
    "このフェーズは前のNotebookと同様である。\n",
    "\n",
    "ここではapple_dataが格納されているcsvを取り込み、学習と検証の分割を行う。  \n",
    "その分割されたデータを用いて、学習を行う関数`objective()`を定義する。  \n",
    "この`objective()`をMLFlow Trackingのプロセスに組み込んでいく。"
   ]
  },
  {
   "cell_type": "code",
   "execution_count": 1,
   "id": "4ed23c82-c61c-494f-a947-21004e4af3af",
   "metadata": {},
   "outputs": [],
   "source": [
    "import numpy as np\n",
    "import pandas as pd"
   ]
  },
  {
   "cell_type": "code",
   "execution_count": 2,
   "id": "25ecb72f-2ed4-4021-8e4c-0d39203d11c2",
   "metadata": {},
   "outputs": [
    {
     "data": {
      "text/html": [
       "<div>\n",
       "<style scoped>\n",
       "    .dataframe tbody tr th:only-of-type {\n",
       "        vertical-align: middle;\n",
       "    }\n",
       "\n",
       "    .dataframe tbody tr th {\n",
       "        vertical-align: top;\n",
       "    }\n",
       "\n",
       "    .dataframe thead th {\n",
       "        text-align: right;\n",
       "    }\n",
       "</style>\n",
       "<table border=\"1\" class=\"dataframe\">\n",
       "  <thead>\n",
       "    <tr style=\"text-align: right;\">\n",
       "      <th></th>\n",
       "      <th>date</th>\n",
       "      <th>average_temperature</th>\n",
       "      <th>rainfall</th>\n",
       "      <th>weekend</th>\n",
       "      <th>holiday</th>\n",
       "      <th>price_per_kg</th>\n",
       "      <th>promo</th>\n",
       "      <th>demand</th>\n",
       "      <th>previous_days_demand</th>\n",
       "      <th>competitor_price_per_kg</th>\n",
       "      <th>marketing_intensity</th>\n",
       "    </tr>\n",
       "  </thead>\n",
       "  <tbody>\n",
       "    <tr>\n",
       "      <th>0</th>\n",
       "      <td>1996-12-02 23:45:11.240034</td>\n",
       "      <td>30.584727</td>\n",
       "      <td>1.831006</td>\n",
       "      <td>0</td>\n",
       "      <td>0</td>\n",
       "      <td>1.578387</td>\n",
       "      <td>1</td>\n",
       "      <td>1001.647352</td>\n",
       "      <td>1026.324266</td>\n",
       "      <td>0.755725</td>\n",
       "      <td>0.323086</td>\n",
       "    </tr>\n",
       "    <tr>\n",
       "      <th>1</th>\n",
       "      <td>1996-12-03 23:45:11.240032</td>\n",
       "      <td>15.465069</td>\n",
       "      <td>0.761303</td>\n",
       "      <td>0</td>\n",
       "      <td>0</td>\n",
       "      <td>1.965125</td>\n",
       "      <td>0</td>\n",
       "      <td>843.972638</td>\n",
       "      <td>1026.324266</td>\n",
       "      <td>0.913934</td>\n",
       "      <td>0.030371</td>\n",
       "    </tr>\n",
       "    <tr>\n",
       "      <th>2</th>\n",
       "      <td>1996-12-04 23:45:11.240031</td>\n",
       "      <td>10.786525</td>\n",
       "      <td>1.427338</td>\n",
       "      <td>0</td>\n",
       "      <td>0</td>\n",
       "      <td>1.497623</td>\n",
       "      <td>0</td>\n",
       "      <td>890.319248</td>\n",
       "      <td>868.942267</td>\n",
       "      <td>2.879262</td>\n",
       "      <td>0.354226</td>\n",
       "    </tr>\n",
       "    <tr>\n",
       "      <th>3</th>\n",
       "      <td>1996-12-05 23:45:11.240030</td>\n",
       "      <td>23.648154</td>\n",
       "      <td>3.737435</td>\n",
       "      <td>0</td>\n",
       "      <td>0</td>\n",
       "      <td>1.952936</td>\n",
       "      <td>0</td>\n",
       "      <td>811.206168</td>\n",
       "      <td>889.965021</td>\n",
       "      <td>0.826015</td>\n",
       "      <td>0.953000</td>\n",
       "    </tr>\n",
       "    <tr>\n",
       "      <th>4</th>\n",
       "      <td>1996-12-06 23:45:11.240029</td>\n",
       "      <td>13.861391</td>\n",
       "      <td>5.598549</td>\n",
       "      <td>0</td>\n",
       "      <td>0</td>\n",
       "      <td>2.059993</td>\n",
       "      <td>0</td>\n",
       "      <td>822.279469</td>\n",
       "      <td>835.253168</td>\n",
       "      <td>1.130145</td>\n",
       "      <td>0.953000</td>\n",
       "    </tr>\n",
       "    <tr>\n",
       "      <th>...</th>\n",
       "      <td>...</td>\n",
       "      <td>...</td>\n",
       "      <td>...</td>\n",
       "      <td>...</td>\n",
       "      <td>...</td>\n",
       "      <td>...</td>\n",
       "      <td>...</td>\n",
       "      <td>...</td>\n",
       "      <td>...</td>\n",
       "      <td>...</td>\n",
       "      <td>...</td>\n",
       "    </tr>\n",
       "    <tr>\n",
       "      <th>9995</th>\n",
       "      <td>2024-04-14 23:45:11.226286</td>\n",
       "      <td>23.358868</td>\n",
       "      <td>7.061220</td>\n",
       "      <td>1</td>\n",
       "      <td>0</td>\n",
       "      <td>1.556829</td>\n",
       "      <td>1</td>\n",
       "      <td>2566.432998</td>\n",
       "      <td>2676.279445</td>\n",
       "      <td>0.560507</td>\n",
       "      <td>0.889971</td>\n",
       "    </tr>\n",
       "    <tr>\n",
       "      <th>9996</th>\n",
       "      <td>2024-04-15 23:45:11.226284</td>\n",
       "      <td>14.859048</td>\n",
       "      <td>0.868655</td>\n",
       "      <td>0</td>\n",
       "      <td>0</td>\n",
       "      <td>1.632918</td>\n",
       "      <td>1</td>\n",
       "      <td>2032.827646</td>\n",
       "      <td>2590.543027</td>\n",
       "      <td>2.460766</td>\n",
       "      <td>0.884467</td>\n",
       "    </tr>\n",
       "    <tr>\n",
       "      <th>9997</th>\n",
       "      <td>2024-04-16 23:45:11.226283</td>\n",
       "      <td>17.941035</td>\n",
       "      <td>13.739986</td>\n",
       "      <td>0</td>\n",
       "      <td>0</td>\n",
       "      <td>0.827723</td>\n",
       "      <td>1</td>\n",
       "      <td>2167.417581</td>\n",
       "      <td>2031.943179</td>\n",
       "      <td>1.321922</td>\n",
       "      <td>0.884467</td>\n",
       "    </tr>\n",
       "    <tr>\n",
       "      <th>9998</th>\n",
       "      <td>2024-04-17 23:45:11.226281</td>\n",
       "      <td>14.533862</td>\n",
       "      <td>1.610512</td>\n",
       "      <td>0</td>\n",
       "      <td>0</td>\n",
       "      <td>0.589172</td>\n",
       "      <td>1</td>\n",
       "      <td>2099.505096</td>\n",
       "      <td>2166.533113</td>\n",
       "      <td>2.604095</td>\n",
       "      <td>0.812706</td>\n",
       "    </tr>\n",
       "    <tr>\n",
       "      <th>9999</th>\n",
       "      <td>2024-04-18 23:45:11.226273</td>\n",
       "      <td>13.048549</td>\n",
       "      <td>5.287508</td>\n",
       "      <td>0</td>\n",
       "      <td>0</td>\n",
       "      <td>1.794122</td>\n",
       "      <td>1</td>\n",
       "      <td>2004.100185</td>\n",
       "      <td>2098.692389</td>\n",
       "      <td>1.261635</td>\n",
       "      <td>0.750458</td>\n",
       "    </tr>\n",
       "  </tbody>\n",
       "</table>\n",
       "<p>10000 rows × 11 columns</p>\n",
       "</div>"
      ],
      "text/plain": [
       "                           date  average_temperature   rainfall  weekend  \\\n",
       "0    1996-12-02 23:45:11.240034            30.584727   1.831006        0   \n",
       "1    1996-12-03 23:45:11.240032            15.465069   0.761303        0   \n",
       "2    1996-12-04 23:45:11.240031            10.786525   1.427338        0   \n",
       "3    1996-12-05 23:45:11.240030            23.648154   3.737435        0   \n",
       "4    1996-12-06 23:45:11.240029            13.861391   5.598549        0   \n",
       "...                         ...                  ...        ...      ...   \n",
       "9995 2024-04-14 23:45:11.226286            23.358868   7.061220        1   \n",
       "9996 2024-04-15 23:45:11.226284            14.859048   0.868655        0   \n",
       "9997 2024-04-16 23:45:11.226283            17.941035  13.739986        0   \n",
       "9998 2024-04-17 23:45:11.226281            14.533862   1.610512        0   \n",
       "9999 2024-04-18 23:45:11.226273            13.048549   5.287508        0   \n",
       "\n",
       "      holiday  price_per_kg  promo       demand  previous_days_demand  \\\n",
       "0           0      1.578387      1  1001.647352           1026.324266   \n",
       "1           0      1.965125      0   843.972638           1026.324266   \n",
       "2           0      1.497623      0   890.319248            868.942267   \n",
       "3           0      1.952936      0   811.206168            889.965021   \n",
       "4           0      2.059993      0   822.279469            835.253168   \n",
       "...       ...           ...    ...          ...                   ...   \n",
       "9995        0      1.556829      1  2566.432998           2676.279445   \n",
       "9996        0      1.632918      1  2032.827646           2590.543027   \n",
       "9997        0      0.827723      1  2167.417581           2031.943179   \n",
       "9998        0      0.589172      1  2099.505096           2166.533113   \n",
       "9999        0      1.794122      1  2004.100185           2098.692389   \n",
       "\n",
       "      competitor_price_per_kg  marketing_intensity  \n",
       "0                    0.755725             0.323086  \n",
       "1                    0.913934             0.030371  \n",
       "2                    2.879262             0.354226  \n",
       "3                    0.826015             0.953000  \n",
       "4                    1.130145             0.953000  \n",
       "...                       ...                  ...  \n",
       "9995                 0.560507             0.889971  \n",
       "9996                 2.460766             0.884467  \n",
       "9997                 1.321922             0.884467  \n",
       "9998                 2.604095             0.812706  \n",
       "9999                 1.261635             0.750458  \n",
       "\n",
       "[10000 rows x 11 columns]"
      ]
     },
     "execution_count": 2,
     "metadata": {},
     "output_type": "execute_result"
    }
   ],
   "source": [
    "data = pd.read_csv('apple_data.csv', parse_dates=[0])\n",
    "data"
   ]
  },
  {
   "cell_type": "code",
   "execution_count": 3,
   "id": "f3844980-47ea-43a4-a1e1-b5e7534154f1",
   "metadata": {},
   "outputs": [],
   "source": [
    "# データを特徴とターゲットに分割し、無関係な日付フィールドとターゲットフィールドをドロップする。\n",
    "X = data.drop(columns=[\"date\", \"demand\", \"competitor_price_per_kg\", \"marketing_intensity\"])\n",
    "y = data[\"demand\"]\n",
    "\n",
    "# データを訓練セットと検証セットに分割する\n",
    "from sklearn.model_selection import train_test_split\n",
    "\n",
    "X_train, X_val, y_train, y_val = train_test_split(\n",
    "    X, y\n",
    "    , test_size=0.2\n",
    "    , random_state=42\n",
    ")"
   ]
  },
  {
   "cell_type": "code",
   "execution_count": 4,
   "id": "ef5e2284-dafc-4b4a-bf3a-386ee57eb725",
   "metadata": {},
   "outputs": [],
   "source": [
    "params = {\n",
    "    \"n_estimators\": 100,\n",
    "    #\"max_depth\": 6,\n",
    "    \"min_samples_split\": 10,\n",
    "    \"min_samples_leaf\": 4,\n",
    "    \"bootstrap\": True,\n",
    "    \"oob_score\": False,\n",
    "}"
   ]
  },
  {
   "cell_type": "code",
   "execution_count": 5,
   "id": "bbea3242-6b82-4521-87de-6c08d7dba9a0",
   "metadata": {},
   "outputs": [],
   "source": [
    "from sklearn.ensemble import RandomForestRegressor\n",
    "from sklearn.metrics import mean_absolute_error, mean_squared_error, r2_score\n",
    "\n",
    "def objective(X_train, X_val, y_train, y_val, params):\n",
    "    # RandomForestRegressor を訓練→fit→予測\n",
    "    model_rf = RandomForestRegressor(**params)\n",
    "    \n",
    "    model_rf.fit(X_train, y_train)\n",
    "    y_pred = model_rf.predict(X_val)\n",
    "\n",
    "    # エラーメトリクスの計算\n",
    "    mae = mean_absolute_error(y_val, y_pred)\n",
    "    mse = mean_squared_error(y_val, y_pred)\n",
    "    rmse = np.sqrt(mse)\n",
    "    r2 = r2_score(y_val, y_pred)\n",
    "    \n",
    "    # これから書くメトリクスをコレクションにまとめる\n",
    "    metrics = {\n",
    "          \"mae\": mae\n",
    "        , \"mse\": mse\n",
    "        , \"rmse\": rmse\n",
    "        , \"r2\": r2\n",
    "    }\n",
    "    \n",
    "    return model_rf, metrics"
   ]
  },
  {
   "cell_type": "markdown",
   "id": "fb87cee5-f9d2-4c63-9e3f-5e52692d08e2",
   "metadata": {},
   "source": [
    "## MLFlowの実行"
   ]
  },
  {
   "cell_type": "markdown",
   "id": "d0b24fc5-187f-48bc-89bb-ef6c8ed522d0",
   "metadata": {},
   "source": [
    "### 初期設定"
   ]
  },
  {
   "cell_type": "code",
   "execution_count": 6,
   "id": "d3c7172b-3e79-42a1-853c-d4000f215b3b",
   "metadata": {},
   "outputs": [],
   "source": [
    "import mlflow"
   ]
  },
  {
   "cell_type": "markdown",
   "id": "fd7c62d9-d4fe-46ef-afce-0f0d080a9afb",
   "metadata": {},
   "source": [
    "Trackingサーバへの接続を行う。"
   ]
  },
  {
   "cell_type": "code",
   "execution_count": 7,
   "id": "94fba05a-5cc8-4b9a-9c26-fd6b6c9bfa40",
   "metadata": {},
   "outputs": [],
   "source": [
    "mlflow.set_tracking_uri(\"http://localhost:5000\")"
   ]
  },
  {
   "cell_type": "markdown",
   "id": "efe61216-1223-4c12-8613-2adade73c25c",
   "metadata": {},
   "source": [
    "エクスペリメントおよび実行処理名を定義する。  \n",
    "特に実行処理名はここでは固定で付与するものとする。"
   ]
  },
  {
   "cell_type": "code",
   "execution_count": 8,
   "id": "bcf34eaa-9e32-4a07-911b-a4af571b16ab",
   "metadata": {},
   "outputs": [
    {
     "data": {
      "text/plain": [
       "<Experiment: artifact_location='mlflow-artifacts:/988028568725486117', creation_time=1713941969999, experiment_id='988028568725486117', last_update_time=1713941969999, lifecycle_stage='active', name='Apple_Models', tags={}>"
      ]
     },
     "execution_count": 8,
     "metadata": {},
     "output_type": "execute_result"
    }
   ],
   "source": [
    "# エクスペリメントの定義\n",
    "apple_experiment = mlflow.set_experiment(\"Apple-Models\")\n",
    "apple_experiment"
   ]
  },
  {
   "cell_type": "code",
   "execution_count": 9,
   "id": "3cc40c90-516b-45bf-9991-6c9b4eee3b81",
   "metadata": {},
   "outputs": [],
   "source": [
    "# 実行処理名の定義\n",
    "run_name = \"apples_rf_test_nested\""
   ]
  },
  {
   "cell_type": "markdown",
   "id": "bdedee50-44d4-40af-a222-3cb7a945d859",
   "metadata": {},
   "source": [
    "つぎにモデルを保存するアーティファクトパスを以下の通り定義する。"
   ]
  },
  {
   "cell_type": "code",
   "execution_count": 10,
   "id": "5507272e-b08a-4598-9aee-30d72f00c943",
   "metadata": {},
   "outputs": [],
   "source": [
    "artifact_path = \"rf_apples\""
   ]
  },
  {
   "cell_type": "markdown",
   "id": "231b8a60-4c56-41a8-bfc4-1325ada0e702",
   "metadata": {},
   "source": [
    "ここでは`max_depth`の値を変化させながら実行させ、出力がネストされるようにする。"
   ]
  },
  {
   "cell_type": "code",
   "execution_count": 12,
   "id": "de85af16-46dc-4d3c-a951-0a4ce0af5169",
   "metadata": {
    "scrolled": true
   },
   "outputs": [
    {
     "name": "stderr",
     "output_type": "stream",
     "text": [
      "/home/user01/.local/lib/python3.10/site-packages/mlflow/types/utils.py:393: UserWarning: Hint: Inferred schema contains integer column(s). Integer columns in Python cannot represent missing values. If your input data contains missing values at inference time, it will be encoded as floats and will cause a schema enforcement error. The best way to avoid this problem is to infer the model schema based on a realistic data sample (training dataset) that includes missing values. Alternatively, you can declare integer columns as doubles (float64) whenever these columns may have missing values. See `Handling Integers With Missing Values <https://www.mlflow.org/docs/latest/models.html#handling-integers-with-missing-values>`_ for more details.\n",
      "  warnings.warn(\n",
      "/home/user01/.local/lib/python3.10/site-packages/_distutils_hack/__init__.py:11: UserWarning: Distutils was imported before Setuptools, but importing Setuptools also replaces the `distutils` module in `sys.modules`. This may lead to undesirable behaviors or errors. To avoid these issues, avoid using distutils directly, ensure that setuptools is installed in the traditional way (e.g. not an editable install), and/or make sure that setuptools is always imported before distutils.\n",
      "  warnings.warn(\n",
      "/home/user01/.local/lib/python3.10/site-packages/_distutils_hack/__init__.py:26: UserWarning: Setuptools is replacing distutils.\n",
      "  warnings.warn(\"Setuptools is replacing distutils.\")\n",
      "/home/user01/.local/lib/python3.10/site-packages/mlflow/types/utils.py:393: UserWarning: Hint: Inferred schema contains integer column(s). Integer columns in Python cannot represent missing values. If your input data contains missing values at inference time, it will be encoded as floats and will cause a schema enforcement error. The best way to avoid this problem is to infer the model schema based on a realistic data sample (training dataset) that includes missing values. Alternatively, you can declare integer columns as doubles (float64) whenever these columns may have missing values. See `Handling Integers With Missing Values <https://www.mlflow.org/docs/latest/models.html#handling-integers-with-missing-values>`_ for more details.\n",
      "  warnings.warn(\n",
      "/home/user01/.local/lib/python3.10/site-packages/_distutils_hack/__init__.py:11: UserWarning: Distutils was imported before Setuptools, but importing Setuptools also replaces the `distutils` module in `sys.modules`. This may lead to undesirable behaviors or errors. To avoid these issues, avoid using distutils directly, ensure that setuptools is installed in the traditional way (e.g. not an editable install), and/or make sure that setuptools is always imported before distutils.\n",
      "  warnings.warn(\n",
      "/home/user01/.local/lib/python3.10/site-packages/_distutils_hack/__init__.py:26: UserWarning: Setuptools is replacing distutils.\n",
      "  warnings.warn(\"Setuptools is replacing distutils.\")\n",
      "/home/user01/.local/lib/python3.10/site-packages/mlflow/types/utils.py:393: UserWarning: Hint: Inferred schema contains integer column(s). Integer columns in Python cannot represent missing values. If your input data contains missing values at inference time, it will be encoded as floats and will cause a schema enforcement error. The best way to avoid this problem is to infer the model schema based on a realistic data sample (training dataset) that includes missing values. Alternatively, you can declare integer columns as doubles (float64) whenever these columns may have missing values. See `Handling Integers With Missing Values <https://www.mlflow.org/docs/latest/models.html#handling-integers-with-missing-values>`_ for more details.\n",
      "  warnings.warn(\n",
      "/home/user01/.local/lib/python3.10/site-packages/_distutils_hack/__init__.py:11: UserWarning: Distutils was imported before Setuptools, but importing Setuptools also replaces the `distutils` module in `sys.modules`. This may lead to undesirable behaviors or errors. To avoid these issues, avoid using distutils directly, ensure that setuptools is installed in the traditional way (e.g. not an editable install), and/or make sure that setuptools is always imported before distutils.\n",
      "  warnings.warn(\n",
      "/home/user01/.local/lib/python3.10/site-packages/_distutils_hack/__init__.py:26: UserWarning: Setuptools is replacing distutils.\n",
      "  warnings.warn(\"Setuptools is replacing distutils.\")\n",
      "/home/user01/.local/lib/python3.10/site-packages/mlflow/types/utils.py:393: UserWarning: Hint: Inferred schema contains integer column(s). Integer columns in Python cannot represent missing values. If your input data contains missing values at inference time, it will be encoded as floats and will cause a schema enforcement error. The best way to avoid this problem is to infer the model schema based on a realistic data sample (training dataset) that includes missing values. Alternatively, you can declare integer columns as doubles (float64) whenever these columns may have missing values. See `Handling Integers With Missing Values <https://www.mlflow.org/docs/latest/models.html#handling-integers-with-missing-values>`_ for more details.\n",
      "  warnings.warn(\n",
      "/home/user01/.local/lib/python3.10/site-packages/_distutils_hack/__init__.py:11: UserWarning: Distutils was imported before Setuptools, but importing Setuptools also replaces the `distutils` module in `sys.modules`. This may lead to undesirable behaviors or errors. To avoid these issues, avoid using distutils directly, ensure that setuptools is installed in the traditional way (e.g. not an editable install), and/or make sure that setuptools is always imported before distutils.\n",
      "  warnings.warn(\n",
      "/home/user01/.local/lib/python3.10/site-packages/_distutils_hack/__init__.py:26: UserWarning: Setuptools is replacing distutils.\n",
      "  warnings.warn(\"Setuptools is replacing distutils.\")\n"
     ]
    }
   ],
   "source": [
    "# max_depthのリストをここで定義する\n",
    "max_depths = [2, 4, 8, 16]\n",
    "\n",
    "# MLflowの実行コンテキストを開始する\n",
    "with mlflow.start_run(run_name=run_name) as parent_run:\n",
    "    # Create a child run for each parameter setting\n",
    "    for p in max_depths:\n",
    "        with mlflow.start_run(run_name=\"maxdepth : \" + str(p), nested=True) as child_run:\n",
    "\n",
    "            # 学習とその結果の取得\n",
    "            model_rf, metrics = objective(X_train, X_val, y_train, y_val, params)\n",
    "        \n",
    "            # モデルフィットに使用されたパラメータを記録する\n",
    "            mlflow.log_params(params)\n",
    "            # max_depthは個別に記録\n",
    "            mlflow.log_param(\"max_depth\", p)\n",
    "        \n",
    "            # 検証中に計算されたエラーメトリックをログに記録する\n",
    "            mlflow.log_metrics(metrics)\n",
    "        \n",
    "            # 後で使用するために学習済みモデルのインスタンスをログに記録する\n",
    "            mlflow.sklearn.log_model(\n",
    "                  sk_model=model_rf\n",
    "                , input_example=X_val\n",
    "                , artifact_path=artifact_path\n",
    "            )"
   ]
  },
  {
   "cell_type": "markdown",
   "id": "77e45585-bc40-4248-8960-24e7659d3402",
   "metadata": {},
   "source": [
    "MLFlow UIより、今回の実験の結果を確認する。  \n",
    "今回のケースは実行処理がネストされて出力されている様子について確認して欲しい。"
   ]
  },
  {
   "cell_type": "code",
   "execution_count": null,
   "id": "37ea7c86-1a5f-484e-955a-f70f2339ed1f",
   "metadata": {},
   "outputs": [],
   "source": []
  }
 ],
 "metadata": {
  "kernelspec": {
   "display_name": "Python 3 (ipykernel)",
   "language": "python",
   "name": "python3"
  },
  "language_info": {
   "codemirror_mode": {
    "name": "ipython",
    "version": 3
   },
   "file_extension": ".py",
   "mimetype": "text/x-python",
   "name": "python",
   "nbconvert_exporter": "python",
   "pygments_lexer": "ipython3",
   "version": "3.10.12"
  }
 },
 "nbformat": 4,
 "nbformat_minor": 5
}
