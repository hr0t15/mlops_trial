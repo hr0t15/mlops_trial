{
 "cells": [
  {
   "cell_type": "markdown",
   "id": "09dddc9b-8bb8-4e05-bb9a-016056a23d4d",
   "metadata": {},
   "source": [
    "# Hello, MLFlow Tracking!"
   ]
  },
  {
   "cell_type": "markdown",
   "id": "41f20100-14c4-4949-a9ec-6087eaece321",
   "metadata": {},
   "source": [
    "## はじめてのTracking"
   ]
  },
  {
   "cell_type": "markdown",
   "id": "09a15f4e-d44b-4ca4-8fc4-e532c74c18f8",
   "metadata": {},
   "source": [
    "ここでは実験の単位であるエクスペリメント（experiment）と実行処理（run）について確認する。"
   ]
  },
  {
   "cell_type": "markdown",
   "id": "dc983b34-d67d-4c8a-ae57-06dca889018a",
   "metadata": {},
   "source": [
    "MLFlow Tracking Serverが稼働している前提とする。  \n",
    "本検証では、ローカルホストにて、ポート番号5000にて接続を行うものとし、背後のコマンドラインにて、以下のコマンドを用いてサーバを起動させる。\n",
    "\n",
    "```\n",
    "> mlflow server --host 127.0.0.1 --port 5000\n",
    "```"
   ]
  },
  {
   "cell_type": "markdown",
   "id": "f0b7c0b5-688f-4c5d-93ef-68bf1dde0b95",
   "metadata": {},
   "source": [
    "MLflowをインポートする。"
   ]
  },
  {
   "cell_type": "code",
   "execution_count": 1,
   "id": "964c2997-38b2-4392-bc3e-8bf67205c7bf",
   "metadata": {},
   "outputs": [],
   "source": [
    "import mlflow"
   ]
  },
  {
   "cell_type": "markdown",
   "id": "56a5f0db-e154-462f-8a08-4f1844c30bb5",
   "metadata": {},
   "source": [
    "MLflow Tracking APIより、サーバにMLFlow Sessionを接続する。"
   ]
  },
  {
   "cell_type": "code",
   "execution_count": 2,
   "id": "cc9ff05e-f915-4203-82df-0def96aed473",
   "metadata": {},
   "outputs": [],
   "source": [
    "mlflow.set_tracking_uri(\"http://localhost:5000\")"
   ]
  },
  {
   "cell_type": "markdown",
   "id": "93eda993-5239-492b-a866-5bf8389b1a22",
   "metadata": {},
   "source": [
    "サーバに対して、エクスペリメントの記録を行う。\n",
    "\n",
    "まずはエクスペリメントの名前を定義する。  \n",
    "以下では`\"check-localhost-connection\"`を指定しているが、指定しない場合は`Default`という名前になる。"
   ]
  },
  {
   "cell_type": "code",
   "execution_count": 3,
   "id": "119ebdf3-17c8-46d6-86fe-6886621b3b41",
   "metadata": {},
   "outputs": [
    {
     "name": "stderr",
     "output_type": "stream",
     "text": [
      "2024/04/24 15:56:44 INFO mlflow.tracking.fluent: Experiment with name 'check-localhost-connection' does not exist. Creating a new experiment.\n"
     ]
    },
    {
     "data": {
      "text/plain": [
       "<Experiment: artifact_location='mlflow-artifacts:/483927218524901355', creation_time=1713941804775, experiment_id='483927218524901355', last_update_time=1713941804775, lifecycle_stage='active', name='check-localhost-connection', tags={}>"
      ]
     },
     "execution_count": 3,
     "metadata": {},
     "output_type": "execute_result"
    }
   ],
   "source": [
    "mlflow.set_experiment(\"check-localhost-connection\")"
   ]
  },
  {
   "cell_type": "markdown",
   "id": "7c802689-91d6-48aa-8ec2-80b557ab510e",
   "metadata": {},
   "source": [
    "定義したエクスペリメントに対し、実行処理(`mlflow.start_run()`)を行う。  \n",
    "`mlflow.start_run()`の引数として、何も指定しない場合は実行名（Run Name）は自動的に付与される。\n",
    "\n",
    "ここではダミーで設定したメトリクスを実行結果として記録する。"
   ]
  },
  {
   "cell_type": "code",
   "execution_count": 4,
   "id": "7c00eea0-27de-4c21-baf3-8174a04aeae0",
   "metadata": {},
   "outputs": [],
   "source": [
    "with mlflow.start_run():\n",
    "    mlflow.log_param(\"a\", 1)\n",
    "    mlflow.log_param(\"b\", 0.1)\n",
    "    mlflow.log_param(\"c\", \"high\")\n",
    "    mlflow.log_metric(\"foo\", 1)\n",
    "    mlflow.log_metric(\"bar\", 2)"
   ]
  },
  {
   "cell_type": "markdown",
   "id": "5d6c8d28-15ab-4d86-98a5-f06b256b9027",
   "metadata": {},
   "source": [
    "記録後はMLFlow UIにて確認することができる。  \n",
    "ブラウザにて`http://localhost:5000`にてアクセスすることができる。\n",
    "\n",
    "MLFlow UIより、エクスペリメント`check-localhost-connection`に対して、実行処理の結果が記述されていることが確認可能である。  \n",
    "なお、実行名は与えていないため、自動的に名前が付与されている。"
   ]
  },
  {
   "cell_type": "markdown",
   "id": "f61ed002-260a-47b6-a690-fbe31b5ce662",
   "metadata": {},
   "source": [
    "## 追加のTracking"
   ]
  },
  {
   "cell_type": "markdown",
   "id": "cddbe8a8-269f-42b3-9ffc-4ac3be2be6eb",
   "metadata": {},
   "source": [
    "さきほど定義したエクスペリメント`\"check-localhost-connection\"`に対し、さらに実行処理(`mlflow.start_run()`)を行う。  \n",
    "\n",
    "今回は`mlflow.start_run()`の引数として、`Hello, Tracking`を指定し、ここではダミーで設定したメトリクスとパラメータを実行結果として記録する。"
   ]
  },
  {
   "cell_type": "code",
   "execution_count": 5,
   "id": "b9d7d0ae-3017-418c-b7a5-70da804f8d0a",
   "metadata": {},
   "outputs": [],
   "source": [
    "params = {\n",
    "    \"a\": 1,\n",
    "    \"b\": 0.1,\n",
    "    \"c\": \"high\"\n",
    "}\n",
    "\n",
    "metrics = {\n",
    "    \"foo\": 10,\n",
    "    \"bar\": 10.5\n",
    "}"
   ]
  },
  {
   "cell_type": "code",
   "execution_count": 6,
   "id": "51d06d45-c88a-4719-8bf1-1d373c93ed1a",
   "metadata": {},
   "outputs": [],
   "source": [
    "run_name = \"Hello, Tracking\"\n",
    "\n",
    "with mlflow.start_run(run_name=run_name):\n",
    "    mlflow.log_metrics(metrics)\n",
    "    mlflow.log_params(params)"
   ]
  },
  {
   "cell_type": "markdown",
   "id": "bef25599-e07f-4e8a-aed2-ea15cb6a5af3",
   "metadata": {},
   "source": [
    "MLFlow UIより、エクスペリメント`check-localhost-connection`に対して、`Hello, Tracking`という実行名の実行処理の結果が記述されていることが確認可能である。  "
   ]
  },
  {
   "cell_type": "markdown",
   "id": "201b961a-9b4d-41af-89db-66bae00af263",
   "metadata": {},
   "source": [
    "なお、以下のように`mlflow.log_metrics()`を`mlflow.log_metric()`のようなエラーが生じる場合は、UI上でエラーである旨が表示されるようになる。"
   ]
  },
  {
   "cell_type": "code",
   "execution_count": 7,
   "id": "d7d5f75e-4038-4e6a-add6-a6bbda6c767e",
   "metadata": {},
   "outputs": [
    {
     "ename": "TypeError",
     "evalue": "log_metric() missing 1 required positional argument: 'value'",
     "output_type": "error",
     "traceback": [
      "\u001b[0;31m---------------------------------------------------------------------------\u001b[0m",
      "\u001b[0;31mTypeError\u001b[0m                                 Traceback (most recent call last)",
      "Cell \u001b[0;32mIn[7], line 4\u001b[0m\n\u001b[1;32m      1\u001b[0m run_name \u001b[38;5;241m=\u001b[39m \u001b[38;5;124m\"\u001b[39m\u001b[38;5;124mHello, Tracking(Error)\u001b[39m\u001b[38;5;124m\"\u001b[39m\n\u001b[1;32m      3\u001b[0m \u001b[38;5;28;01mwith\u001b[39;00m mlflow\u001b[38;5;241m.\u001b[39mstart_run(run_name\u001b[38;5;241m=\u001b[39mrun_name):\n\u001b[0;32m----> 4\u001b[0m     \u001b[43mmlflow\u001b[49m\u001b[38;5;241;43m.\u001b[39;49m\u001b[43mlog_metric\u001b[49m\u001b[43m(\u001b[49m\u001b[43mmetrics\u001b[49m\u001b[43m)\u001b[49m\n\u001b[1;32m      5\u001b[0m     mlflow\u001b[38;5;241m.\u001b[39mlog_params(params)\n",
      "\u001b[0;31mTypeError\u001b[0m: log_metric() missing 1 required positional argument: 'value'"
     ]
    }
   ],
   "source": [
    "run_name = \"Hello, Tracking(Error)\"\n",
    "\n",
    "with mlflow.start_run(run_name=run_name):\n",
    "    mlflow.log_metric(metrics)\n",
    "    mlflow.log_params(params)"
   ]
  },
  {
   "cell_type": "code",
   "execution_count": null,
   "id": "3034c2d5-c65f-4dc0-a7af-9b1df3377c15",
   "metadata": {},
   "outputs": [],
   "source": []
  }
 ],
 "metadata": {
  "kernelspec": {
   "display_name": "Python 3 (ipykernel)",
   "language": "python",
   "name": "python3"
  },
  "language_info": {
   "codemirror_mode": {
    "name": "ipython",
    "version": 3
   },
   "file_extension": ".py",
   "mimetype": "text/x-python",
   "name": "python",
   "nbconvert_exporter": "python",
   "pygments_lexer": "ipython3",
   "version": "3.10.12"
  }
 },
 "nbformat": 4,
 "nbformat_minor": 5
}
